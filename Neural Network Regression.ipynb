{
 "cells": [
  {
   "cell_type": "markdown",
   "metadata": {},
   "source": [
    "# Neural Network Regression"
   ]
  },
  {
   "cell_type": "markdown",
   "metadata": {},
   "source": [
    "# Exploring and Processing the Data"
   ]
  },
  {
   "cell_type": "markdown",
   "metadata": {},
   "source": [
    "We first have to read in the CSV file that we've been given. We'll use a package called pandas for that:"
   ]
  },
  {
   "cell_type": "code",
   "execution_count": 1,
   "metadata": {},
   "outputs": [],
   "source": [
    "#!conda install pandas\n",
    "#!pip3 install pandas\n",
    "import pandas as pd"
   ]
  },
  {
   "cell_type": "markdown",
   "metadata": {},
   "source": [
    "Here we enter the path to out data. It is *very* important to get this correct."
   ]
  },
  {
   "cell_type": "code",
   "execution_count": 2,
   "metadata": {},
   "outputs": [],
   "source": [
    "df = pd.read_csv('./house-prices-example.csv')\n",
    "df = df.iloc[:,1:] #remove former index column because irrelevant noise"
   ]
  },
  {
   "cell_type": "markdown",
   "metadata": {},
   "source": [
    "Now we can look at the top 10 items in the dataframe. Notice the 13 different variables we have. We will use the first 12 to predict the final value, the tax appraisal."
   ]
  },
  {
   "cell_type": "code",
   "execution_count": 3,
   "metadata": {},
   "outputs": [
    {
     "data": {
      "text/html": [
       "<div>\n",
       "<style scoped>\n",
       "    .dataframe tbody tr th:only-of-type {\n",
       "        vertical-align: middle;\n",
       "    }\n",
       "\n",
       "    .dataframe tbody tr th {\n",
       "        vertical-align: top;\n",
       "    }\n",
       "\n",
       "    .dataframe thead th {\n",
       "        text-align: right;\n",
       "    }\n",
       "</style>\n",
       "<table border=\"1\" class=\"dataframe\">\n",
       "  <thead>\n",
       "    <tr style=\"text-align: right;\">\n",
       "      <th></th>\n",
       "      <th>lotsizesquarefeet</th>\n",
       "      <th>buildingqualitytypeid</th>\n",
       "      <th>calculatedbathnbr</th>\n",
       "      <th>bathroomcnt</th>\n",
       "      <th>bedroomcnt</th>\n",
       "      <th>regionidcity</th>\n",
       "      <th>regionidneighborhood</th>\n",
       "      <th>regionidzip</th>\n",
       "      <th>yearbuilt</th>\n",
       "      <th>roomcnt</th>\n",
       "      <th>lotsizesquarefeet.1</th>\n",
       "      <th>calculatedfinishedsquarefeet</th>\n",
       "      <th>structuretaxvaluedollarcnt</th>\n",
       "    </tr>\n",
       "  </thead>\n",
       "  <tbody>\n",
       "    <tr>\n",
       "      <th>0</th>\n",
       "      <td>40247.0</td>\n",
       "      <td>7.0</td>\n",
       "      <td>2.0</td>\n",
       "      <td>2.0</td>\n",
       "      <td>2.0</td>\n",
       "      <td>12447.0</td>\n",
       "      <td>13327.0</td>\n",
       "      <td>96072.0</td>\n",
       "      <td>2004.0</td>\n",
       "      <td>0.0</td>\n",
       "      <td>40247.0</td>\n",
       "      <td>1090.0</td>\n",
       "      <td>232897.0</td>\n",
       "    </tr>\n",
       "    <tr>\n",
       "      <th>1</th>\n",
       "      <td>5420.0</td>\n",
       "      <td>4.0</td>\n",
       "      <td>2.0</td>\n",
       "      <td>2.0</td>\n",
       "      <td>4.0</td>\n",
       "      <td>12447.0</td>\n",
       "      <td>268496.0</td>\n",
       "      <td>96018.0</td>\n",
       "      <td>1957.0</td>\n",
       "      <td>0.0</td>\n",
       "      <td>5420.0</td>\n",
       "      <td>1931.0</td>\n",
       "      <td>124789.0</td>\n",
       "    </tr>\n",
       "    <tr>\n",
       "      <th>2</th>\n",
       "      <td>9085.0</td>\n",
       "      <td>8.0</td>\n",
       "      <td>2.0</td>\n",
       "      <td>2.0</td>\n",
       "      <td>3.0</td>\n",
       "      <td>12447.0</td>\n",
       "      <td>268588.0</td>\n",
       "      <td>96339.0</td>\n",
       "      <td>1962.0</td>\n",
       "      <td>0.0</td>\n",
       "      <td>9085.0</td>\n",
       "      <td>1766.0</td>\n",
       "      <td>120205.0</td>\n",
       "    </tr>\n",
       "    <tr>\n",
       "      <th>3</th>\n",
       "      <td>34845.0</td>\n",
       "      <td>9.0</td>\n",
       "      <td>3.0</td>\n",
       "      <td>3.0</td>\n",
       "      <td>5.0</td>\n",
       "      <td>12447.0</td>\n",
       "      <td>268588.0</td>\n",
       "      <td>96339.0</td>\n",
       "      <td>1995.0</td>\n",
       "      <td>0.0</td>\n",
       "      <td>34845.0</td>\n",
       "      <td>3085.0</td>\n",
       "      <td>378688.0</td>\n",
       "    </tr>\n",
       "    <tr>\n",
       "      <th>4</th>\n",
       "      <td>11009.0</td>\n",
       "      <td>8.0</td>\n",
       "      <td>3.0</td>\n",
       "      <td>3.0</td>\n",
       "      <td>5.0</td>\n",
       "      <td>12447.0</td>\n",
       "      <td>268588.0</td>\n",
       "      <td>96339.0</td>\n",
       "      <td>1965.0</td>\n",
       "      <td>0.0</td>\n",
       "      <td>11009.0</td>\n",
       "      <td>2401.0</td>\n",
       "      <td>162046.0</td>\n",
       "    </tr>\n",
       "    <tr>\n",
       "      <th>5</th>\n",
       "      <td>12910.0</td>\n",
       "      <td>7.0</td>\n",
       "      <td>3.0</td>\n",
       "      <td>3.0</td>\n",
       "      <td>4.0</td>\n",
       "      <td>12447.0</td>\n",
       "      <td>268588.0</td>\n",
       "      <td>96339.0</td>\n",
       "      <td>1984.0</td>\n",
       "      <td>0.0</td>\n",
       "      <td>12910.0</td>\n",
       "      <td>2397.0</td>\n",
       "      <td>274403.0</td>\n",
       "    </tr>\n",
       "    <tr>\n",
       "      <th>6</th>\n",
       "      <td>10095.0</td>\n",
       "      <td>7.0</td>\n",
       "      <td>3.0</td>\n",
       "      <td>3.0</td>\n",
       "      <td>4.0</td>\n",
       "      <td>12447.0</td>\n",
       "      <td>268588.0</td>\n",
       "      <td>96339.0</td>\n",
       "      <td>1981.0</td>\n",
       "      <td>0.0</td>\n",
       "      <td>10095.0</td>\n",
       "      <td>2574.0</td>\n",
       "      <td>239616.0</td>\n",
       "    </tr>\n",
       "    <tr>\n",
       "      <th>7</th>\n",
       "      <td>11119.0</td>\n",
       "      <td>8.0</td>\n",
       "      <td>3.0</td>\n",
       "      <td>3.0</td>\n",
       "      <td>4.0</td>\n",
       "      <td>12447.0</td>\n",
       "      <td>268588.0</td>\n",
       "      <td>96339.0</td>\n",
       "      <td>1965.0</td>\n",
       "      <td>0.0</td>\n",
       "      <td>11119.0</td>\n",
       "      <td>2225.0</td>\n",
       "      <td>208572.0</td>\n",
       "    </tr>\n",
       "    <tr>\n",
       "      <th>8</th>\n",
       "      <td>9787.0</td>\n",
       "      <td>7.0</td>\n",
       "      <td>3.0</td>\n",
       "      <td>3.0</td>\n",
       "      <td>4.0</td>\n",
       "      <td>12447.0</td>\n",
       "      <td>268588.0</td>\n",
       "      <td>96339.0</td>\n",
       "      <td>1983.0</td>\n",
       "      <td>0.0</td>\n",
       "      <td>9787.0</td>\n",
       "      <td>2661.0</td>\n",
       "      <td>258245.0</td>\n",
       "    </tr>\n",
       "    <tr>\n",
       "      <th>9</th>\n",
       "      <td>8280.0</td>\n",
       "      <td>6.0</td>\n",
       "      <td>3.0</td>\n",
       "      <td>3.0</td>\n",
       "      <td>4.0</td>\n",
       "      <td>12447.0</td>\n",
       "      <td>268588.0</td>\n",
       "      <td>96342.0</td>\n",
       "      <td>1960.0</td>\n",
       "      <td>0.0</td>\n",
       "      <td>8280.0</td>\n",
       "      <td>1830.0</td>\n",
       "      <td>132311.0</td>\n",
       "    </tr>\n",
       "  </tbody>\n",
       "</table>\n",
       "</div>"
      ],
      "text/plain": [
       "   lotsizesquarefeet  buildingqualitytypeid  calculatedbathnbr  bathroomcnt  \\\n",
       "0            40247.0                    7.0                2.0          2.0   \n",
       "1             5420.0                    4.0                2.0          2.0   \n",
       "2             9085.0                    8.0                2.0          2.0   \n",
       "3            34845.0                    9.0                3.0          3.0   \n",
       "4            11009.0                    8.0                3.0          3.0   \n",
       "5            12910.0                    7.0                3.0          3.0   \n",
       "6            10095.0                    7.0                3.0          3.0   \n",
       "7            11119.0                    8.0                3.0          3.0   \n",
       "8             9787.0                    7.0                3.0          3.0   \n",
       "9             8280.0                    6.0                3.0          3.0   \n",
       "\n",
       "   bedroomcnt  regionidcity  regionidneighborhood  regionidzip  yearbuilt  \\\n",
       "0         2.0       12447.0               13327.0      96072.0     2004.0   \n",
       "1         4.0       12447.0              268496.0      96018.0     1957.0   \n",
       "2         3.0       12447.0              268588.0      96339.0     1962.0   \n",
       "3         5.0       12447.0              268588.0      96339.0     1995.0   \n",
       "4         5.0       12447.0              268588.0      96339.0     1965.0   \n",
       "5         4.0       12447.0              268588.0      96339.0     1984.0   \n",
       "6         4.0       12447.0              268588.0      96339.0     1981.0   \n",
       "7         4.0       12447.0              268588.0      96339.0     1965.0   \n",
       "8         4.0       12447.0              268588.0      96339.0     1983.0   \n",
       "9         4.0       12447.0              268588.0      96342.0     1960.0   \n",
       "\n",
       "   roomcnt  lotsizesquarefeet.1  calculatedfinishedsquarefeet  \\\n",
       "0      0.0              40247.0                        1090.0   \n",
       "1      0.0               5420.0                        1931.0   \n",
       "2      0.0               9085.0                        1766.0   \n",
       "3      0.0              34845.0                        3085.0   \n",
       "4      0.0              11009.0                        2401.0   \n",
       "5      0.0              12910.0                        2397.0   \n",
       "6      0.0              10095.0                        2574.0   \n",
       "7      0.0              11119.0                        2225.0   \n",
       "8      0.0               9787.0                        2661.0   \n",
       "9      0.0               8280.0                        1830.0   \n",
       "\n",
       "   structuretaxvaluedollarcnt  \n",
       "0                    232897.0  \n",
       "1                    124789.0  \n",
       "2                    120205.0  \n",
       "3                    378688.0  \n",
       "4                    162046.0  \n",
       "5                    274403.0  \n",
       "6                    239616.0  \n",
       "7                    208572.0  \n",
       "8                    258245.0  \n",
       "9                    132311.0  "
      ]
     },
     "execution_count": 3,
     "metadata": {},
     "output_type": "execute_result"
    }
   ],
   "source": [
    "df.head(10)"
   ]
  },
  {
   "cell_type": "markdown",
   "metadata": {},
   "source": [
    "The dataset that we have now is in what we call a pandas dataframe. However, arrays are easier to use for analytics and data mining. So, to convert it to an array, simply access its values:"
   ]
  },
  {
   "cell_type": "code",
   "execution_count": 4,
   "metadata": {},
   "outputs": [],
   "source": [
    "dataset = df.values"
   ]
  },
  {
   "cell_type": "code",
   "execution_count": 5,
   "metadata": {},
   "outputs": [
    {
     "data": {
      "text/plain": [
       "array([[4.02470e+04, 7.00000e+00, 2.00000e+00, ..., 4.02470e+04,\n",
       "        1.09000e+03, 2.32897e+05],\n",
       "       [5.42000e+03, 4.00000e+00, 2.00000e+00, ..., 5.42000e+03,\n",
       "        1.93100e+03, 1.24789e+05],\n",
       "       [9.08500e+03, 8.00000e+00, 2.00000e+00, ..., 9.08500e+03,\n",
       "        1.76600e+03, 1.20205e+05],\n",
       "       ...,\n",
       "       [4.65600e+03, 4.00000e+00, 2.00000e+00, ..., 4.65600e+03,\n",
       "        1.11400e+03, 6.82760e+04],\n",
       "       [4.84000e+03, 4.00000e+00, 2.00000e+00, ..., 4.84000e+03,\n",
       "        1.43600e+03, 9.51010e+04],\n",
       "       [4.07900e+03, 6.00000e+00, 2.00000e+00, ..., 4.07900e+03,\n",
       "        1.27000e+03, 6.36380e+04]])"
      ]
     },
     "execution_count": 5,
     "metadata": {},
     "output_type": "execute_result"
    }
   ],
   "source": [
    "dataset"
   ]
  },
  {
   "cell_type": "markdown",
   "metadata": {},
   "source": [
    "Now, we split the dataset into our input features and the label we wish to predict."
   ]
  },
  {
   "cell_type": "code",
   "execution_count": 6,
   "metadata": {},
   "outputs": [],
   "source": [
    "X = dataset[:,0:12]\n",
    "Y = dataset[:,12]"
   ]
  },
  {
   "cell_type": "code",
   "execution_count": 7,
   "metadata": {},
   "outputs": [
    {
     "data": {
      "text/plain": [
       "(904287, 12)"
      ]
     },
     "execution_count": 7,
     "metadata": {},
     "output_type": "execute_result"
    }
   ],
   "source": [
    "X.shape"
   ]
  },
  {
   "cell_type": "code",
   "execution_count": 8,
   "metadata": {},
   "outputs": [
    {
     "data": {
      "text/plain": [
       "(904287,)"
      ]
     },
     "execution_count": 8,
     "metadata": {},
     "output_type": "execute_result"
    }
   ],
   "source": [
    "Y.shape"
   ]
  },
  {
   "cell_type": "markdown",
   "metadata": {},
   "source": [
    "Normalizing our data is very important, as we want the input features to be on the same order of magnitude to make our training easier. We'll use a min-max scaler from scikit-learn which scales our data to be between 0 and 1."
   ]
  },
  {
   "cell_type": "code",
   "execution_count": 9,
   "metadata": {},
   "outputs": [],
   "source": [
    "#!conda install sklearn\n",
    "#!pip3 install sklearn"
   ]
  },
  {
   "cell_type": "code",
   "execution_count": 10,
   "metadata": {},
   "outputs": [],
   "source": [
    "from sklearn import preprocessing"
   ]
  },
  {
   "cell_type": "code",
   "execution_count": 11,
   "metadata": {},
   "outputs": [],
   "source": [
    "min_max_scaler = preprocessing.MinMaxScaler()\n",
    "X_scale = min_max_scaler.fit_transform(X)"
   ]
  },
  {
   "cell_type": "code",
   "execution_count": 12,
   "metadata": {},
   "outputs": [
    {
     "data": {
      "text/plain": [
       "array([[6.09901968e-03, 5.45454545e-01, 5.26315789e-02, ...,\n",
       "        0.00000000e+00, 6.09901968e-03, 1.83893683e-02],\n",
       "       [8.02394530e-04, 2.72727273e-01, 5.26315789e-02, ...,\n",
       "        0.00000000e+00, 8.02394530e-04, 3.25908914e-02],\n",
       "       [1.35978194e-03, 6.36363636e-01, 5.26315789e-02, ...,\n",
       "        0.00000000e+00, 1.35978194e-03, 2.98046235e-02],\n",
       "       ...,\n",
       "       [6.86202449e-04, 2.72727273e-01, 5.26315789e-02, ...,\n",
       "        0.00000000e+00, 6.86202449e-04, 1.87946436e-02],\n",
       "       [7.14185882e-04, 2.72727273e-01, 5.26315789e-02, ...,\n",
       "        0.00000000e+00, 7.14185882e-04, 2.42320877e-02],\n",
       "       [5.98450052e-04, 4.54545455e-01, 5.26315789e-02, ...,\n",
       "        0.00000000e+00, 5.98450052e-04, 2.14289333e-02]])"
      ]
     },
     "execution_count": 12,
     "metadata": {},
     "output_type": "execute_result"
    }
   ],
   "source": [
    "X_scale"
   ]
  },
  {
   "cell_type": "markdown",
   "metadata": {},
   "source": [
    "Lastly, we wish to set aside some parts of our dataset for a validation set and a test set. We use the function train_test_split from scikit-learn to do that."
   ]
  },
  {
   "cell_type": "code",
   "execution_count": 13,
   "metadata": {},
   "outputs": [],
   "source": [
    "from sklearn.model_selection import train_test_split"
   ]
  },
  {
   "cell_type": "markdown",
   "metadata": {},
   "source": [
    "First, we split the training data. The remaining 30% of the data is used for testing and validation."
   ]
  },
  {
   "cell_type": "code",
   "execution_count": 14,
   "metadata": {},
   "outputs": [],
   "source": [
    "X_train, X_val_and_test, Y_train, Y_val_and_test = train_test_split(X_scale, Y, test_size=0.3)"
   ]
  },
  {
   "cell_type": "markdown",
   "metadata": {},
   "source": [
    "So, we next need to split our training and validation data."
   ]
  },
  {
   "cell_type": "code",
   "execution_count": 15,
   "metadata": {},
   "outputs": [],
   "source": [
    "X_val, X_test, Y_val, Y_test = train_test_split(X_val_and_test, Y_val_and_test, test_size=0.5)"
   ]
  },
  {
   "cell_type": "code",
   "execution_count": 16,
   "metadata": {},
   "outputs": [
    {
     "name": "stdout",
     "output_type": "stream",
     "text": [
      "(633000, 12) (135643, 12) (135644, 12) (633000,) (135643,) (135644,)\n"
     ]
    }
   ],
   "source": [
    "print(X_train.shape, X_val.shape, X_test.shape, Y_train.shape, Y_val.shape, Y_test.shape)"
   ]
  },
  {
   "cell_type": "markdown",
   "metadata": {},
   "source": [
    "# Building and Training Our First Neural Network"
   ]
  },
  {
   "cell_type": "markdown",
   "metadata": {},
   "source": [
    "We will be using Keras to build our architecture. Let's import the code from Keras that we will need to use:"
   ]
  },
  {
   "cell_type": "code",
   "execution_count": 17,
   "metadata": {},
   "outputs": [
    {
     "name": "stdout",
     "output_type": "stream",
     "text": [
      "Requirement already satisfied: tensorflow in /Users/g/anaconda3/lib/python3.11/site-packages (2.16.1)\n",
      "Requirement already satisfied: absl-py>=1.0.0 in /Users/g/anaconda3/lib/python3.11/site-packages (from tensorflow) (2.1.0)\n",
      "Requirement already satisfied: astunparse>=1.6.0 in /Users/g/anaconda3/lib/python3.11/site-packages (from tensorflow) (1.6.3)\n",
      "Requirement already satisfied: flatbuffers>=23.5.26 in /Users/g/anaconda3/lib/python3.11/site-packages (from tensorflow) (24.3.25)\n",
      "Requirement already satisfied: gast!=0.5.0,!=0.5.1,!=0.5.2,>=0.2.1 in /Users/g/anaconda3/lib/python3.11/site-packages (from tensorflow) (0.5.4)\n",
      "Requirement already satisfied: google-pasta>=0.1.1 in /Users/g/anaconda3/lib/python3.11/site-packages (from tensorflow) (0.2.0)\n",
      "Requirement already satisfied: h5py>=3.10.0 in /Users/g/anaconda3/lib/python3.11/site-packages (from tensorflow) (3.10.0)\n",
      "Requirement already satisfied: libclang>=13.0.0 in /Users/g/anaconda3/lib/python3.11/site-packages (from tensorflow) (18.1.1)\n",
      "Requirement already satisfied: ml-dtypes~=0.3.1 in /Users/g/anaconda3/lib/python3.11/site-packages (from tensorflow) (0.3.2)\n",
      "Requirement already satisfied: opt-einsum>=2.3.2 in /Users/g/anaconda3/lib/python3.11/site-packages (from tensorflow) (3.3.0)\n",
      "Requirement already satisfied: packaging in /Users/g/anaconda3/lib/python3.11/site-packages (from tensorflow) (23.1)\n",
      "Requirement already satisfied: protobuf!=4.21.0,!=4.21.1,!=4.21.2,!=4.21.3,!=4.21.4,!=4.21.5,<5.0.0dev,>=3.20.3 in /Users/g/anaconda3/lib/python3.11/site-packages (from tensorflow) (4.25.3)\n",
      "Requirement already satisfied: requests<3,>=2.21.0 in /Users/g/anaconda3/lib/python3.11/site-packages (from tensorflow) (2.31.0)\n",
      "Requirement already satisfied: setuptools in /Users/g/anaconda3/lib/python3.11/site-packages (from tensorflow) (68.0.0)\n",
      "Requirement already satisfied: six>=1.12.0 in /Users/g/anaconda3/lib/python3.11/site-packages (from tensorflow) (1.16.0)\n",
      "Requirement already satisfied: termcolor>=1.1.0 in /Users/g/anaconda3/lib/python3.11/site-packages (from tensorflow) (2.4.0)\n",
      "Requirement already satisfied: typing-extensions>=3.6.6 in /Users/g/anaconda3/lib/python3.11/site-packages (from tensorflow) (4.7.1)\n",
      "Requirement already satisfied: wrapt>=1.11.0 in /Users/g/anaconda3/lib/python3.11/site-packages (from tensorflow) (1.14.1)\n",
      "Requirement already satisfied: grpcio<2.0,>=1.24.3 in /Users/g/anaconda3/lib/python3.11/site-packages (from tensorflow) (1.62.1)\n",
      "Requirement already satisfied: tensorboard<2.17,>=2.16 in /Users/g/anaconda3/lib/python3.11/site-packages (from tensorflow) (2.16.2)\n",
      "Requirement already satisfied: keras>=3.0.0 in /Users/g/anaconda3/lib/python3.11/site-packages (from tensorflow) (3.1.1)\n",
      "Requirement already satisfied: tensorflow-io-gcs-filesystem>=0.23.1 in /Users/g/anaconda3/lib/python3.11/site-packages (from tensorflow) (0.36.0)\n",
      "Requirement already satisfied: numpy<2.0.0,>=1.23.5 in /Users/g/anaconda3/lib/python3.11/site-packages (from tensorflow) (1.24.3)\n",
      "Requirement already satisfied: wheel<1.0,>=0.23.0 in /Users/g/anaconda3/lib/python3.11/site-packages (from astunparse>=1.6.0->tensorflow) (0.38.4)\n",
      "Requirement already satisfied: rich in /Users/g/anaconda3/lib/python3.11/site-packages (from keras>=3.0.0->tensorflow) (13.7.1)\n",
      "Requirement already satisfied: namex in /Users/g/anaconda3/lib/python3.11/site-packages (from keras>=3.0.0->tensorflow) (0.0.7)\n",
      "Requirement already satisfied: optree in /Users/g/anaconda3/lib/python3.11/site-packages (from keras>=3.0.0->tensorflow) (0.11.0)\n",
      "Requirement already satisfied: charset-normalizer<4,>=2 in /Users/g/anaconda3/lib/python3.11/site-packages (from requests<3,>=2.21.0->tensorflow) (2.0.4)\n",
      "Requirement already satisfied: idna<4,>=2.5 in /Users/g/anaconda3/lib/python3.11/site-packages (from requests<3,>=2.21.0->tensorflow) (3.4)\n",
      "Requirement already satisfied: urllib3<3,>=1.21.1 in /Users/g/anaconda3/lib/python3.11/site-packages (from requests<3,>=2.21.0->tensorflow) (1.26.16)\n",
      "Requirement already satisfied: certifi>=2017.4.17 in /Users/g/anaconda3/lib/python3.11/site-packages (from requests<3,>=2.21.0->tensorflow) (2023.7.22)\n",
      "Requirement already satisfied: markdown>=2.6.8 in /Users/g/anaconda3/lib/python3.11/site-packages (from tensorboard<2.17,>=2.16->tensorflow) (3.4.1)\n",
      "Requirement already satisfied: tensorboard-data-server<0.8.0,>=0.7.0 in /Users/g/anaconda3/lib/python3.11/site-packages (from tensorboard<2.17,>=2.16->tensorflow) (0.7.2)\n",
      "Requirement already satisfied: werkzeug>=1.0.1 in /Users/g/anaconda3/lib/python3.11/site-packages (from tensorboard<2.17,>=2.16->tensorflow) (2.2.3)\n",
      "Requirement already satisfied: MarkupSafe>=2.1.1 in /Users/g/anaconda3/lib/python3.11/site-packages (from werkzeug>=1.0.1->tensorboard<2.17,>=2.16->tensorflow) (2.1.1)\n",
      "Requirement already satisfied: markdown-it-py>=2.2.0 in /Users/g/anaconda3/lib/python3.11/site-packages (from rich->keras>=3.0.0->tensorflow) (2.2.0)\n",
      "Requirement already satisfied: pygments<3.0.0,>=2.13.0 in /Users/g/anaconda3/lib/python3.11/site-packages (from rich->keras>=3.0.0->tensorflow) (2.15.1)\n",
      "Requirement already satisfied: mdurl~=0.1 in /Users/g/anaconda3/lib/python3.11/site-packages (from markdown-it-py>=2.2.0->rich->keras>=3.0.0->tensorflow) (0.1.0)\n"
     ]
    }
   ],
   "source": [
    "#!conda install tensorflow\n",
    "!pip3 install tensorflow"
   ]
  },
  {
   "cell_type": "code",
   "execution_count": 18,
   "metadata": {},
   "outputs": [],
   "source": [
    "from tensorflow import keras"
   ]
  },
  {
   "cell_type": "markdown",
   "metadata": {},
   "source": [
    "We will be using the Sequential model, which means that we merely need to describe the layers above in sequence. Our neural network has three layers:\n",
    "\n",
    "- Hidden layer 1: 30 neurons, ReLU activation\n",
    "- Hidden layer 2: 30 neurons, ReLU activation\n",
    "- Output Layer: 1 neuron, Sigmoid activation"
   ]
  },
  {
   "cell_type": "code",
   "execution_count": 19,
   "metadata": {},
   "outputs": [
    {
     "name": "stderr",
     "output_type": "stream",
     "text": [
      "/Users/g/anaconda3/lib/python3.11/site-packages/keras/src/layers/core/dense.py:88: UserWarning: Do not pass an `input_shape`/`input_dim` argument to a layer. When using Sequential models, prefer using an `Input(shape)` object as the first layer in the model instead.\n",
      "  super().__init__(activity_regularizer=activity_regularizer, **kwargs)\n"
     ]
    }
   ],
   "source": [
    "model = keras.models.Sequential([\n",
    "    keras.layers.Dense(12, activation='elu', input_shape=(12,)),\n",
    "    keras.layers.Dense(32, activation='elu'),    \n",
    "    keras.layers.Dense(16, activation='elu'),\n",
    "    keras.layers.Dense(1, activation='linear'),\n",
    "])"
   ]
  },
  {
   "cell_type": "markdown",
   "metadata": {},
   "source": [
    "Now that we've got our architecture specified, we need to find the best numbers for it. Before we start our training, we have to configure the model by\n",
    "- Telling it what algorithm you want to use to do the optimization (we'll use stochastic gradient descent)\n",
    "- Telling it what loss function to use (for binary classification, we will use binary cross entropy)\n",
    "- Telling it what other metrics you want to track apart from the loss function (we want to track accuracy as well)\n",
    "\n",
    "We do so below:"
   ]
  },
  {
   "cell_type": "code",
   "execution_count": 20,
   "metadata": {},
   "outputs": [],
   "source": [
    "adam = keras.optimizers.Adam()#lr=0.001)\n",
    "model.compile(loss='mse', optimizer=adam, metrics=['mse','mae'])"
   ]
  },
  {
   "cell_type": "markdown",
   "metadata": {},
   "source": [
    "Training on the data is pretty straightforward and requires us to write one line of code. The function is called 'fit' as we are fitting the parameters to the data. We specify:\n",
    "- what data we are training on, which is X_train and Y_train\n",
    "- the size of our mini-batch \n",
    "- how long we want to train it for (epochs)\n",
    "- what our validation data is so that the model will tell us how we are doing on the validation data at each point.\n",
    "\n",
    "This function will output a history, which we save under the variable hist. We'll use this variable a little later."
   ]
  },
  {
   "cell_type": "code",
   "execution_count": 21,
   "metadata": {
    "scrolled": false
   },
   "outputs": [
    {
     "name": "stdout",
     "output_type": "stream",
     "text": [
      "Epoch 1/30\n",
      "\u001b[1m619/619\u001b[0m \u001b[32m━━━━━━━━━━━━━━━━━━━━\u001b[0m\u001b[37m\u001b[0m \u001b[1m1s\u001b[0m 1ms/step - loss: 71247757312.0000 - mae: 172852.0938 - mse: 71247781888.0000 - val_loss: 71002660864.0000 - val_mae: 164257.3438 - val_mse: 70959800320.0000\n",
      "Epoch 2/30\n",
      "\u001b[1m619/619\u001b[0m \u001b[32m━━━━━━━━━━━━━━━━━━━━\u001b[0m\u001b[37m\u001b[0m \u001b[1m1s\u001b[0m 937us/step - loss: 64219353088.0000 - mae: 153591.5781 - mse: 64219471872.0000 - val_loss: 51011612672.0000 - val_mae: 105283.6172 - val_mse: 50972381184.0000\n",
      "Epoch 3/30\n",
      "\u001b[1m619/619\u001b[0m \u001b[32m━━━━━━━━━━━━━━━━━━━━\u001b[0m\u001b[37m\u001b[0m \u001b[1m1s\u001b[0m 950us/step - loss: 44504051712.0000 - mae: 98038.3750 - mse: 44503666688.0000 - val_loss: 40960864256.0000 - val_mae: 97894.2969 - val_mse: 40926068736.0000\n",
      "Epoch 4/30\n",
      "\u001b[1m619/619\u001b[0m \u001b[32m━━━━━━━━━━━━━━━━━━━━\u001b[0m\u001b[37m\u001b[0m \u001b[1m1s\u001b[0m 945us/step - loss: 38268170240.0000 - mae: 99232.4922 - mse: 38268276736.0000 - val_loss: 39299948544.0000 - val_mae: 94551.2812 - val_mse: 39266099200.0000\n",
      "Epoch 5/30\n",
      "\u001b[1m619/619\u001b[0m \u001b[32m━━━━━━━━━━━━━━━━━━━━\u001b[0m\u001b[37m\u001b[0m \u001b[1m1s\u001b[0m 960us/step - loss: 33909741568.0000 - mae: 88994.7422 - mse: 33909792768.0000 - val_loss: 32639926272.0000 - val_mae: 79156.6016 - val_mse: 32611072000.0000\n",
      "Epoch 6/30\n",
      "\u001b[1m619/619\u001b[0m \u001b[32m━━━━━━━━━━━━━━━━━━━━\u001b[0m\u001b[37m\u001b[0m \u001b[1m1s\u001b[0m 990us/step - loss: 29533882368.0000 - mae: 79050.7969 - mse: 29533911040.0000 - val_loss: 29636476928.0000 - val_mae: 79867.8594 - val_mse: 29612838912.0000\n",
      "Epoch 7/30\n",
      "\u001b[1m619/619\u001b[0m \u001b[32m━━━━━━━━━━━━━━━━━━━━\u001b[0m\u001b[37m\u001b[0m \u001b[1m1s\u001b[0m 928us/step - loss: 28336721920.0000 - mae: 80659.9375 - mse: 28336666624.0000 - val_loss: 28571985920.0000 - val_mae: 81839.2969 - val_mse: 28552224768.0000\n",
      "Epoch 8/30\n",
      "\u001b[1m619/619\u001b[0m \u001b[32m━━━━━━━━━━━━━━━━━━━━\u001b[0m\u001b[37m\u001b[0m \u001b[1m1s\u001b[0m 948us/step - loss: 24291319808.0000 - mae: 82368.8125 - mse: 24291362816.0000 - val_loss: 27884216320.0000 - val_mae: 83273.1172 - val_mse: 27866982400.0000\n",
      "Epoch 9/30\n",
      "\u001b[1m619/619\u001b[0m \u001b[32m━━━━━━━━━━━━━━━━━━━━\u001b[0m\u001b[37m\u001b[0m \u001b[1m1s\u001b[0m 992us/step - loss: 25091080192.0000 - mae: 83391.3047 - mse: 25091133440.0000 - val_loss: 27278940160.0000 - val_mae: 82175.8125 - val_mse: 27262316544.0000\n",
      "Epoch 10/30\n",
      "\u001b[1m619/619\u001b[0m \u001b[32m━━━━━━━━━━━━━━━━━━━━\u001b[0m\u001b[37m\u001b[0m \u001b[1m1s\u001b[0m 956us/step - loss: 24767164416.0000 - mae: 81306.9141 - mse: 24767209472.0000 - val_loss: 26053535744.0000 - val_mae: 76844.6172 - val_mse: 26037383168.0000\n",
      "Epoch 11/30\n",
      "\u001b[1m619/619\u001b[0m \u001b[32m━━━━━━━━━━━━━━━━━━━━\u001b[0m\u001b[37m\u001b[0m \u001b[1m1s\u001b[0m 952us/step - loss: 22193993728.0000 - mae: 76034.2812 - mse: 22193999872.0000 - val_loss: 24935165952.0000 - val_mae: 74168.0312 - val_mse: 24919902208.0000\n",
      "Epoch 12/30\n",
      "\u001b[1m619/619\u001b[0m \u001b[32m━━━━━━━━━━━━━━━━━━━━\u001b[0m\u001b[37m\u001b[0m \u001b[1m1s\u001b[0m 954us/step - loss: 20816652288.0000 - mae: 73533.1953 - mse: 20816637952.0000 - val_loss: 24118452224.0000 - val_mae: 72120.7812 - val_mse: 24103946240.0000\n",
      "Epoch 13/30\n",
      "\u001b[1m619/619\u001b[0m \u001b[32m━━━━━━━━━━━━━━━━━━━━\u001b[0m\u001b[37m\u001b[0m \u001b[1m1s\u001b[0m 944us/step - loss: 19933024256.0000 - mae: 72013.6328 - mse: 19932950528.0000 - val_loss: 23556839424.0000 - val_mae: 71611.1016 - val_mse: 23543283712.0000\n",
      "Epoch 14/30\n",
      "\u001b[1m619/619\u001b[0m \u001b[32m━━━━━━━━━━━━━━━━━━━━\u001b[0m\u001b[37m\u001b[0m \u001b[1m1s\u001b[0m 957us/step - loss: 21683404800.0000 - mae: 71356.6875 - mse: 21683464192.0000 - val_loss: 23221950464.0000 - val_mae: 71032.8359 - val_mse: 23209129984.0000\n",
      "Epoch 15/30\n",
      "\u001b[1m619/619\u001b[0m \u001b[32m━━━━━━━━━━━━━━━━━━━━\u001b[0m\u001b[37m\u001b[0m \u001b[1m1s\u001b[0m 954us/step - loss: 19037108224.0000 - mae: 71150.2031 - mse: 19037069312.0000 - val_loss: 22956992512.0000 - val_mae: 71389.8281 - val_mse: 22945058816.0000\n",
      "Epoch 16/30\n",
      "\u001b[1m619/619\u001b[0m \u001b[32m━━━━━━━━━━━━━━━━━━━━\u001b[0m\u001b[37m\u001b[0m \u001b[1m1s\u001b[0m 952us/step - loss: 19578245120.0000 - mae: 71009.4766 - mse: 19578294272.0000 - val_loss: 22739496960.0000 - val_mae: 71027.5000 - val_mse: 22728136704.0000\n",
      "Epoch 17/30\n",
      "\u001b[1m619/619\u001b[0m \u001b[32m━━━━━━━━━━━━━━━━━━━━\u001b[0m\u001b[37m\u001b[0m \u001b[1m1s\u001b[0m 960us/step - loss: 19208710144.0000 - mae: 70871.7656 - mse: 19208767488.0000 - val_loss: 22546552832.0000 - val_mae: 71082.1094 - val_mse: 22535890944.0000\n",
      "Epoch 18/30\n",
      "\u001b[1m619/619\u001b[0m \u001b[32m━━━━━━━━━━━━━━━━━━━━\u001b[0m\u001b[37m\u001b[0m \u001b[1m1s\u001b[0m 955us/step - loss: 19231035392.0000 - mae: 70516.2656 - mse: 19231076352.0000 - val_loss: 22366857216.0000 - val_mae: 70590.6094 - val_mse: 22356477952.0000\n",
      "Epoch 19/30\n",
      "\u001b[1m619/619\u001b[0m \u001b[32m━━━━━━━━━━━━━━━━━━━━\u001b[0m\u001b[37m\u001b[0m \u001b[1m1s\u001b[0m 939us/step - loss: 19335297024.0000 - mae: 70281.3750 - mse: 19335348224.0000 - val_loss: 22207899648.0000 - val_mae: 70473.8672 - val_mse: 22198003712.0000\n",
      "Epoch 20/30\n",
      "\u001b[1m619/619\u001b[0m \u001b[32m━━━━━━━━━━━━━━━━━━━━\u001b[0m\u001b[37m\u001b[0m \u001b[1m1s\u001b[0m 955us/step - loss: 18768865280.0000 - mae: 70092.7812 - mse: 18768855040.0000 - val_loss: 22061957120.0000 - val_mae: 70387.4219 - val_mse: 22052366336.0000\n",
      "Epoch 21/30\n",
      "\u001b[1m619/619\u001b[0m \u001b[32m━━━━━━━━━━━━━━━━━━━━\u001b[0m\u001b[37m\u001b[0m \u001b[1m1s\u001b[0m 927us/step - loss: 18321401856.0000 - mae: 70042.7422 - mse: 18321448960.0000 - val_loss: 21923801088.0000 - val_mae: 69874.0078 - val_mse: 21914378240.0000\n",
      "Epoch 22/30\n",
      "\u001b[1m619/619\u001b[0m \u001b[32m━━━━━━━━━━━━━━━━━━━━\u001b[0m\u001b[37m\u001b[0m \u001b[1m1s\u001b[0m 933us/step - loss: 18795632640.0000 - mae: 69925.9766 - mse: 18795687936.0000 - val_loss: 21801054208.0000 - val_mae: 69475.2734 - val_mse: 21791741952.0000\n",
      "Epoch 23/30\n",
      "\u001b[1m619/619\u001b[0m \u001b[32m━━━━━━━━━━━━━━━━━━━━\u001b[0m\u001b[37m\u001b[0m \u001b[1m1s\u001b[0m 961us/step - loss: 18536042496.0000 - mae: 69336.4766 - mse: 18533873664.0000 - val_loss: 21678604288.0000 - val_mae: 69333.5000 - val_mse: 21669599232.0000\n",
      "Epoch 24/30\n",
      "\u001b[1m619/619\u001b[0m \u001b[32m━━━━━━━━━━━━━━━━━━━━\u001b[0m\u001b[37m\u001b[0m \u001b[1m1s\u001b[0m 976us/step - loss: 19151650816.0000 - mae: 69262.1484 - mse: 19151681536.0000 - val_loss: 21568282624.0000 - val_mae: 69570.3516 - val_mse: 21559775232.0000\n",
      "Epoch 25/30\n",
      "\u001b[1m619/619\u001b[0m \u001b[32m━━━━━━━━━━━━━━━━━━━━\u001b[0m\u001b[37m\u001b[0m \u001b[1m1s\u001b[0m 955us/step - loss: 18883143680.0000 - mae: 69443.7656 - mse: 18883188736.0000 - val_loss: 21465141248.0000 - val_mae: 69103.6719 - val_mse: 21456685056.0000\n",
      "Epoch 26/30\n",
      "\u001b[1m619/619\u001b[0m \u001b[32m━━━━━━━━━━━━━━━━━━━━\u001b[0m\u001b[37m\u001b[0m \u001b[1m1s\u001b[0m 959us/step - loss: 19170269184.0000 - mae: 68749.9141 - mse: 19170291712.0000 - val_loss: 21376043008.0000 - val_mae: 68662.5312 - val_mse: 21367738368.0000\n",
      "Epoch 27/30\n",
      "\u001b[1m619/619\u001b[0m \u001b[32m━━━━━━━━━━━━━━━━━━━━\u001b[0m\u001b[37m\u001b[0m \u001b[1m1s\u001b[0m 979us/step - loss: 16885135360.0000 - mae: 68577.1406 - mse: 16885172224.0000 - val_loss: 21309847552.0000 - val_mae: 69630.6562 - val_mse: 21302489088.0000\n",
      "Epoch 28/30\n",
      "\u001b[1m619/619\u001b[0m \u001b[32m━━━━━━━━━━━━━━━━━━━━\u001b[0m\u001b[37m\u001b[0m \u001b[1m1s\u001b[0m 962us/step - loss: 18053181440.0000 - mae: 68608.4922 - mse: 18053232640.0000 - val_loss: 21185955840.0000 - val_mae: 68379.2969 - val_mse: 21178226688.0000\n",
      "Epoch 29/30\n",
      "\u001b[1m619/619\u001b[0m \u001b[32m━━━━━━━━━━━━━━━━━━━━\u001b[0m\u001b[37m\u001b[0m \u001b[1m1s\u001b[0m 965us/step - loss: 18303711232.0000 - mae: 68520.7422 - mse: 18303760384.0000 - val_loss: 21139955712.0000 - val_mae: 67764.9219 - val_mse: 21132103680.0000\n",
      "Epoch 30/30\n",
      "\u001b[1m619/619\u001b[0m \u001b[32m━━━━━━━━━━━━━━━━━━━━\u001b[0m\u001b[37m\u001b[0m \u001b[1m1s\u001b[0m 950us/step - loss: 17105507328.0000 - mae: 68037.0938 - mse: 17105560576.0000 - val_loss: 21031006208.0000 - val_mae: 68331.8047 - val_mse: 21023795200.0000\n"
     ]
    }
   ],
   "source": [
    "hist = model.fit(X_train, Y_train,\n",
    "          batch_size=1024, epochs=30,\n",
    "          validation_data=(X_val, Y_val))"
   ]
  },
  {
   "cell_type": "markdown",
   "metadata": {},
   "source": [
    "Understanding our results:"
   ]
  },
  {
   "cell_type": "code",
   "execution_count": 22,
   "metadata": {},
   "outputs": [
    {
     "data": {
      "text/plain": [
       "172874.90233189243"
      ]
     },
     "execution_count": 22,
     "metadata": {},
     "output_type": "execute_result"
    }
   ],
   "source": [
    "df.structuretaxvaluedollarcnt.mean()"
   ]
  },
  {
   "cell_type": "markdown",
   "metadata": {},
   "source": [
    "# Visualizing Loss and Accuracy"
   ]
  },
  {
   "cell_type": "markdown",
   "metadata": {},
   "source": [
    "Import the relevant package we need to do the visualization"
   ]
  },
  {
   "cell_type": "code",
   "execution_count": 23,
   "metadata": {},
   "outputs": [],
   "source": [
    "import matplotlib.pyplot as plt"
   ]
  },
  {
   "cell_type": "markdown",
   "metadata": {},
   "source": [
    "We want to visualize the training loss and the validation loss like this:"
   ]
  },
  {
   "cell_type": "code",
   "execution_count": 24,
   "metadata": {},
   "outputs": [
    {
     "data": {
      "image/png": "[encoded data removed]",
      "text/plain": [
       "<Figure size 640x480 with 1 Axes>"
      ]
     },
     "metadata": {},
     "output_type": "display_data"
    }
   ],
   "source": [
    "plt.plot(hist.history['loss'])\n",
    "plt.plot(hist.history['val_loss'])\n",
    "plt.title('Model loss')\n",
    "plt.ylabel('Loss')\n",
    "plt.xlabel('Epoch')\n",
    "plt.legend(['Train', 'Val'], loc='upper right')\n",
    "plt.show()"
   ]
  },
  {
   "cell_type": "markdown",
   "metadata": {},
   "source": [
    "Now we can computer performance on the test set, to see how the model performs on real data that hasn't been seen before."
   ]
  },
  {
   "cell_type": "code",
   "execution_count": 25,
   "metadata": {},
   "outputs": [
    {
     "name": "stdout",
     "output_type": "stream",
     "text": [
      "\u001b[1m4239/4239\u001b[0m \u001b[32m━━━━━━━━━━━━━━━━━━━━\u001b[0m\u001b[37m\u001b[0m \u001b[1m1s\u001b[0m 269us/step\n"
     ]
    }
   ],
   "source": [
    "predictions = model.predict(X_test)"
   ]
  },
  {
   "cell_type": "code",
   "execution_count": 26,
   "metadata": {},
   "outputs": [
    {
     "name": "stdout",
     "output_type": "stream",
     "text": [
      "Requirement already satisfied: numpy in /Users/g/anaconda3/lib/python3.11/site-packages (1.24.3)\r\n"
     ]
    }
   ],
   "source": [
    "#!conda install numpy\n",
    "!pip3 install numpy"
   ]
  },
  {
   "cell_type": "code",
   "execution_count": 27,
   "metadata": {},
   "outputs": [],
   "source": [
    "from sklearn.metrics import mean_absolute_error\n",
    "from sklearn.metrics import mean_squared_error\n",
    "import math\n",
    "import numpy as np"
   ]
  },
  {
   "cell_type": "code",
   "execution_count": 28,
   "metadata": {},
   "outputs": [
    {
     "data": {
      "text/plain": [
       "68312.30360853969"
      ]
     },
     "execution_count": 28,
     "metadata": {},
     "output_type": "execute_result"
    }
   ],
   "source": [
    "mean_absolute_error(Y_test, predictions)"
   ]
  },
  {
   "cell_type": "code",
   "execution_count": 29,
   "metadata": {},
   "outputs": [
    {
     "data": {
      "text/plain": [
       "129479.40243723133"
      ]
     },
     "execution_count": 29,
     "metadata": {},
     "output_type": "execute_result"
    }
   ],
   "source": [
    "mean_squared_error(Y_test, predictions)\n",
    "math.sqrt(mean_squared_error(Y_test, predictions))"
   ]
  },
  {
   "cell_type": "markdown",
   "metadata": {},
   "source": [
    "# Assignment #1"
   ]
  },
  {
   "cell_type": "markdown",
   "metadata": {},
   "source": [
    "Try to improve the performance of the model that was trained by changing some parameters or hyperparameters. Recall our in class example of neural networks. \n",
    "\n",
    "Once you have improved on the MSE from the model that we created in class, explain the steps you took in the box below, then save this file as a pdf and submit it. The top five best performing models will get 10 points extra credit (equal to one point on your final grade). \n",
    "\n",
    "You also need to provide a link to ChatGPT or some generative AI tool that you used to try to minimize the loss (either RMSE, MSE, or MAE)."
   ]
  },
  {
   "cell_type": "code",
   "execution_count": null,
   "metadata": {},
   "outputs": [],
   "source": []
  },
  {
   "cell_type": "markdown",
   "metadata": {},
   "source": [
    "Enter your answer here."
   ]
  }
 ],
 "metadata": {
  "kernelspec": {
   "display_name": "Python 3 (ipykernel)",
   "language": "python",
   "name": "python3"
  },
  "language_info": {
   "codemirror_mode": {
    "name": "ipython",
    "version": 3
   },
   "file_extension": ".py",
   "mimetype": "text/x-python",
   "name": "python",
   "nbconvert_exporter": "python",
   "pygments_lexer": "ipython3",
   "version": "3.11.5"
  }
 },
 "nbformat": 4,
 "nbformat_minor": 2
}
