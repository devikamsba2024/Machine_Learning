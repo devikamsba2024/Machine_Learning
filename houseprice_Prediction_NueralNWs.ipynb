{
  "cells": [
    {
      "cell_type": "markdown",
      "metadata": {
        "id": "view-in-github",
        "colab_type": "text"
      },
      "source": [
        "<a href=\"https://colab.research.google.com/github/devikamsba2024/Machine_Learning/blob/main/houseprice_Prediction_NueralNWs.ipynb\" target=\"_parent\"><img src=\"https://colab.research.google.com/assets/colab-badge.svg\" alt=\"Open In Colab\"/></a>"
      ]
    },
    {
      "cell_type": "markdown",
      "metadata": {
        "id": "tGSN9e0PEKvl"
      },
      "source": [
        "# Neural Network Regression"
      ]
    },
    {
      "cell_type": "markdown",
      "metadata": {
        "id": "aW5IfloLEKvm"
      },
      "source": [
        "# Exploring and Processing the Data"
      ]
    },
    {
      "cell_type": "markdown",
      "metadata": {
        "id": "GXsJQibHEKvm"
      },
      "source": [
        "We first have to read in the CSV file that we've been given. We'll use a package called pandas for that:"
      ]
    },
    {
      "cell_type": "code",
      "execution_count": null,
      "metadata": {
        "id": "r4V9uoIlEKvn"
      },
      "outputs": [],
      "source": [
        "#!conda install pandas\n",
        "#!pip3 install pandas\n",
        "import pandas as pd"
      ]
    },
    {
      "cell_type": "markdown",
      "metadata": {
        "id": "mMQ0GZlfEKvn"
      },
      "source": [
        "Here we enter the path to out data. It is *very* important to get this correct."
      ]
    },
    {
      "cell_type": "code",
      "execution_count": null,
      "metadata": {
        "id": "ExU9y46LEKvn"
      },
      "outputs": [],
      "source": [
        "df = pd.read_csv('./house-prices-example.csv')\n",
        "df = df.iloc[:,1:] #remove former index column because irrelevant noise\n",
        "df_1 = df.drop(['calculatedbathnbr', 'lotsizesquarefeet.1','roomcnt'], axis=1) #Removing these columns either they are repeated or they are loss"
      ]
    },
    {
      "cell_type": "markdown",
      "metadata": {
        "id": "KIes_isREKvo"
      },
      "source": [
        "Now we can look at the top 10 items in the dataframe. Notice the 13 different variables we have. We will use the first 12 to predict the final value, the tax appraisal."
      ]
    },
    {
      "cell_type": "code",
      "execution_count": null,
      "metadata": {
        "colab": {
          "base_uri": "https://localhost:8080/",
          "height": 383
        },
        "id": "JjNHcV1fEKvo",
        "outputId": "f0f95587-cefa-4b59-ed3f-35b6b701991b"
      },
      "outputs": [
        {
          "output_type": "execute_result",
          "data": {
            "text/plain": [
              "   lotsizesquarefeet  buildingqualitytypeid  calculatedbathnbr  bathroomcnt  \\\n",
              "0            40247.0                    7.0                2.0          2.0   \n",
              "1             5420.0                    4.0                2.0          2.0   \n",
              "2             9085.0                    8.0                2.0          2.0   \n",
              "3            34845.0                    9.0                3.0          3.0   \n",
              "4            11009.0                    8.0                3.0          3.0   \n",
              "5            12910.0                    7.0                3.0          3.0   \n",
              "6            10095.0                    7.0                3.0          3.0   \n",
              "7            11119.0                    8.0                3.0          3.0   \n",
              "8             9787.0                    7.0                3.0          3.0   \n",
              "9             8280.0                    6.0                3.0          3.0   \n",
              "\n",
              "   bedroomcnt  regionidcity  regionidneighborhood  regionidzip  yearbuilt  \\\n",
              "0         2.0       12447.0               13327.0      96072.0     2004.0   \n",
              "1         4.0       12447.0              268496.0      96018.0     1957.0   \n",
              "2         3.0       12447.0              268588.0      96339.0     1962.0   \n",
              "3         5.0       12447.0              268588.0      96339.0     1995.0   \n",
              "4         5.0       12447.0              268588.0      96339.0     1965.0   \n",
              "5         4.0       12447.0              268588.0      96339.0     1984.0   \n",
              "6         4.0       12447.0              268588.0      96339.0     1981.0   \n",
              "7         4.0       12447.0              268588.0      96339.0     1965.0   \n",
              "8         4.0       12447.0              268588.0      96339.0     1983.0   \n",
              "9         4.0       12447.0              268588.0      96342.0     1960.0   \n",
              "\n",
              "   roomcnt  lotsizesquarefeet.1  calculatedfinishedsquarefeet  \\\n",
              "0      0.0              40247.0                        1090.0   \n",
              "1      0.0               5420.0                        1931.0   \n",
              "2      0.0               9085.0                        1766.0   \n",
              "3      0.0              34845.0                        3085.0   \n",
              "4      0.0              11009.0                        2401.0   \n",
              "5      0.0              12910.0                        2397.0   \n",
              "6      0.0              10095.0                        2574.0   \n",
              "7      0.0              11119.0                        2225.0   \n",
              "8      0.0               9787.0                        2661.0   \n",
              "9      0.0               8280.0                        1830.0   \n",
              "\n",
              "   structuretaxvaluedollarcnt  \n",
              "0                    232897.0  \n",
              "1                    124789.0  \n",
              "2                    120205.0  \n",
              "3                    378688.0  \n",
              "4                    162046.0  \n",
              "5                    274403.0  \n",
              "6                    239616.0  \n",
              "7                    208572.0  \n",
              "8                    258245.0  \n",
              "9                    132311.0  "
            ],
            "text/html": [
              "\n",
              "  <div id=\"df-e73abe72-247a-4cc0-8f83-b97540f0fd22\" class=\"colab-df-container\">\n",
              "    <div>\n",
              "<style scoped>\n",
              "    .dataframe tbody tr th:only-of-type {\n",
              "        vertical-align: middle;\n",
              "    }\n",
              "\n",
              "    .dataframe tbody tr th {\n",
              "        vertical-align: top;\n",
              "    }\n",
              "\n",
              "    .dataframe thead th {\n",
              "        text-align: right;\n",
              "    }\n",
              "</style>\n",
              "<table border=\"1\" class=\"dataframe\">\n",
              "  <thead>\n",
              "    <tr style=\"text-align: right;\">\n",
              "      <th></th>\n",
              "      <th>lotsizesquarefeet</th>\n",
              "      <th>buildingqualitytypeid</th>\n",
              "      <th>calculatedbathnbr</th>\n",
              "      <th>bathroomcnt</th>\n",
              "      <th>bedroomcnt</th>\n",
              "      <th>regionidcity</th>\n",
              "      <th>regionidneighborhood</th>\n",
              "      <th>regionidzip</th>\n",
              "      <th>yearbuilt</th>\n",
              "      <th>roomcnt</th>\n",
              "      <th>lotsizesquarefeet.1</th>\n",
              "      <th>calculatedfinishedsquarefeet</th>\n",
              "      <th>structuretaxvaluedollarcnt</th>\n",
              "    </tr>\n",
              "  </thead>\n",
              "  <tbody>\n",
              "    <tr>\n",
              "      <th>0</th>\n",
              "      <td>40247.0</td>\n",
              "      <td>7.0</td>\n",
              "      <td>2.0</td>\n",
              "      <td>2.0</td>\n",
              "      <td>2.0</td>\n",
              "      <td>12447.0</td>\n",
              "      <td>13327.0</td>\n",
              "      <td>96072.0</td>\n",
              "      <td>2004.0</td>\n",
              "      <td>0.0</td>\n",
              "      <td>40247.0</td>\n",
              "      <td>1090.0</td>\n",
              "      <td>232897.0</td>\n",
              "    </tr>\n",
              "    <tr>\n",
              "      <th>1</th>\n",
              "      <td>5420.0</td>\n",
              "      <td>4.0</td>\n",
              "      <td>2.0</td>\n",
              "      <td>2.0</td>\n",
              "      <td>4.0</td>\n",
              "      <td>12447.0</td>\n",
              "      <td>268496.0</td>\n",
              "      <td>96018.0</td>\n",
              "      <td>1957.0</td>\n",
              "      <td>0.0</td>\n",
              "      <td>5420.0</td>\n",
              "      <td>1931.0</td>\n",
              "      <td>124789.0</td>\n",
              "    </tr>\n",
              "    <tr>\n",
              "      <th>2</th>\n",
              "      <td>9085.0</td>\n",
              "      <td>8.0</td>\n",
              "      <td>2.0</td>\n",
              "      <td>2.0</td>\n",
              "      <td>3.0</td>\n",
              "      <td>12447.0</td>\n",
              "      <td>268588.0</td>\n",
              "      <td>96339.0</td>\n",
              "      <td>1962.0</td>\n",
              "      <td>0.0</td>\n",
              "      <td>9085.0</td>\n",
              "      <td>1766.0</td>\n",
              "      <td>120205.0</td>\n",
              "    </tr>\n",
              "    <tr>\n",
              "      <th>3</th>\n",
              "      <td>34845.0</td>\n",
              "      <td>9.0</td>\n",
              "      <td>3.0</td>\n",
              "      <td>3.0</td>\n",
              "      <td>5.0</td>\n",
              "      <td>12447.0</td>\n",
              "      <td>268588.0</td>\n",
              "      <td>96339.0</td>\n",
              "      <td>1995.0</td>\n",
              "      <td>0.0</td>\n",
              "      <td>34845.0</td>\n",
              "      <td>3085.0</td>\n",
              "      <td>378688.0</td>\n",
              "    </tr>\n",
              "    <tr>\n",
              "      <th>4</th>\n",
              "      <td>11009.0</td>\n",
              "      <td>8.0</td>\n",
              "      <td>3.0</td>\n",
              "      <td>3.0</td>\n",
              "      <td>5.0</td>\n",
              "      <td>12447.0</td>\n",
              "      <td>268588.0</td>\n",
              "      <td>96339.0</td>\n",
              "      <td>1965.0</td>\n",
              "      <td>0.0</td>\n",
              "      <td>11009.0</td>\n",
              "      <td>2401.0</td>\n",
              "      <td>162046.0</td>\n",
              "    </tr>\n",
              "    <tr>\n",
              "      <th>5</th>\n",
              "      <td>12910.0</td>\n",
              "      <td>7.0</td>\n",
              "      <td>3.0</td>\n",
              "      <td>3.0</td>\n",
              "      <td>4.0</td>\n",
              "      <td>12447.0</td>\n",
              "      <td>268588.0</td>\n",
              "      <td>96339.0</td>\n",
              "      <td>1984.0</td>\n",
              "      <td>0.0</td>\n",
              "      <td>12910.0</td>\n",
              "      <td>2397.0</td>\n",
              "      <td>274403.0</td>\n",
              "    </tr>\n",
              "    <tr>\n",
              "      <th>6</th>\n",
              "      <td>10095.0</td>\n",
              "      <td>7.0</td>\n",
              "      <td>3.0</td>\n",
              "      <td>3.0</td>\n",
              "      <td>4.0</td>\n",
              "      <td>12447.0</td>\n",
              "      <td>268588.0</td>\n",
              "      <td>96339.0</td>\n",
              "      <td>1981.0</td>\n",
              "      <td>0.0</td>\n",
              "      <td>10095.0</td>\n",
              "      <td>2574.0</td>\n",
              "      <td>239616.0</td>\n",
              "    </tr>\n",
              "    <tr>\n",
              "      <th>7</th>\n",
              "      <td>11119.0</td>\n",
              "      <td>8.0</td>\n",
              "      <td>3.0</td>\n",
              "      <td>3.0</td>\n",
              "      <td>4.0</td>\n",
              "      <td>12447.0</td>\n",
              "      <td>268588.0</td>\n",
              "      <td>96339.0</td>\n",
              "      <td>1965.0</td>\n",
              "      <td>0.0</td>\n",
              "      <td>11119.0</td>\n",
              "      <td>2225.0</td>\n",
              "      <td>208572.0</td>\n",
              "    </tr>\n",
              "    <tr>\n",
              "      <th>8</th>\n",
              "      <td>9787.0</td>\n",
              "      <td>7.0</td>\n",
              "      <td>3.0</td>\n",
              "      <td>3.0</td>\n",
              "      <td>4.0</td>\n",
              "      <td>12447.0</td>\n",
              "      <td>268588.0</td>\n",
              "      <td>96339.0</td>\n",
              "      <td>1983.0</td>\n",
              "      <td>0.0</td>\n",
              "      <td>9787.0</td>\n",
              "      <td>2661.0</td>\n",
              "      <td>258245.0</td>\n",
              "    </tr>\n",
              "    <tr>\n",
              "      <th>9</th>\n",
              "      <td>8280.0</td>\n",
              "      <td>6.0</td>\n",
              "      <td>3.0</td>\n",
              "      <td>3.0</td>\n",
              "      <td>4.0</td>\n",
              "      <td>12447.0</td>\n",
              "      <td>268588.0</td>\n",
              "      <td>96342.0</td>\n",
              "      <td>1960.0</td>\n",
              "      <td>0.0</td>\n",
              "      <td>8280.0</td>\n",
              "      <td>1830.0</td>\n",
              "      <td>132311.0</td>\n",
              "    </tr>\n",
              "  </tbody>\n",
              "</table>\n",
              "</div>\n",
              "    <div class=\"colab-df-buttons\">\n",
              "\n",
              "  <div class=\"colab-df-container\">\n",
              "    <button class=\"colab-df-convert\" onclick=\"convertToInteractive('df-e73abe72-247a-4cc0-8f83-b97540f0fd22')\"\n",
              "            title=\"Convert this dataframe to an interactive table.\"\n",
              "            style=\"display:none;\">\n",
              "\n",
              "  <svg xmlns=\"http://www.w3.org/2000/svg\" height=\"24px\" viewBox=\"0 -960 960 960\">\n",
              "    <path d=\"M120-120v-720h720v720H120Zm60-500h600v-160H180v160Zm220 220h160v-160H400v160Zm0 220h160v-160H400v160ZM180-400h160v-160H180v160Zm440 0h160v-160H620v160ZM180-180h160v-160H180v160Zm440 0h160v-160H620v160Z\"/>\n",
              "  </svg>\n",
              "    </button>\n",
              "\n",
              "  <style>\n",
              "    .colab-df-container {\n",
              "      display:flex;\n",
              "      gap: 12px;\n",
              "    }\n",
              "\n",
              "    .colab-df-convert {\n",
              "      background-color: #E8F0FE;\n",
              "      border: none;\n",
              "      border-radius: 50%;\n",
              "      cursor: pointer;\n",
              "      display: none;\n",
              "      fill: #1967D2;\n",
              "      height: 32px;\n",
              "      padding: 0 0 0 0;\n",
              "      width: 32px;\n",
              "    }\n",
              "\n",
              "    .colab-df-convert:hover {\n",
              "      background-color: #E2EBFA;\n",
              "      box-shadow: 0px 1px 2px rgba(60, 64, 67, 0.3), 0px 1px 3px 1px rgba(60, 64, 67, 0.15);\n",
              "      fill: #174EA6;\n",
              "    }\n",
              "\n",
              "    .colab-df-buttons div {\n",
              "      margin-bottom: 4px;\n",
              "    }\n",
              "\n",
              "    [theme=dark] .colab-df-convert {\n",
              "      background-color: #3B4455;\n",
              "      fill: #D2E3FC;\n",
              "    }\n",
              "\n",
              "    [theme=dark] .colab-df-convert:hover {\n",
              "      background-color: #434B5C;\n",
              "      box-shadow: 0px 1px 3px 1px rgba(0, 0, 0, 0.15);\n",
              "      filter: drop-shadow(0px 1px 2px rgba(0, 0, 0, 0.3));\n",
              "      fill: #FFFFFF;\n",
              "    }\n",
              "  </style>\n",
              "\n",
              "    <script>\n",
              "      const buttonEl =\n",
              "        document.querySelector('#df-e73abe72-247a-4cc0-8f83-b97540f0fd22 button.colab-df-convert');\n",
              "      buttonEl.style.display =\n",
              "        google.colab.kernel.accessAllowed ? 'block' : 'none';\n",
              "\n",
              "      async function convertToInteractive(key) {\n",
              "        const element = document.querySelector('#df-e73abe72-247a-4cc0-8f83-b97540f0fd22');\n",
              "        const dataTable =\n",
              "          await google.colab.kernel.invokeFunction('convertToInteractive',\n",
              "                                                    [key], {});\n",
              "        if (!dataTable) return;\n",
              "\n",
              "        const docLinkHtml = 'Like what you see? Visit the ' +\n",
              "          '<a target=\"_blank\" href=https://colab.research.google.com/notebooks/data_table.ipynb>data table notebook</a>'\n",
              "          + ' to learn more about interactive tables.';\n",
              "        element.innerHTML = '';\n",
              "        dataTable['output_type'] = 'display_data';\n",
              "        await google.colab.output.renderOutput(dataTable, element);\n",
              "        const docLink = document.createElement('div');\n",
              "        docLink.innerHTML = docLinkHtml;\n",
              "        element.appendChild(docLink);\n",
              "      }\n",
              "    </script>\n",
              "  </div>\n",
              "\n",
              "\n",
              "<div id=\"df-cb1f802c-730c-4e77-9598-8c7f7b3574cf\">\n",
              "  <button class=\"colab-df-quickchart\" onclick=\"quickchart('df-cb1f802c-730c-4e77-9598-8c7f7b3574cf')\"\n",
              "            title=\"Suggest charts\"\n",
              "            style=\"display:none;\">\n",
              "\n",
              "<svg xmlns=\"http://www.w3.org/2000/svg\" height=\"24px\"viewBox=\"0 0 24 24\"\n",
              "     width=\"24px\">\n",
              "    <g>\n",
              "        <path d=\"M19 3H5c-1.1 0-2 .9-2 2v14c0 1.1.9 2 2 2h14c1.1 0 2-.9 2-2V5c0-1.1-.9-2-2-2zM9 17H7v-7h2v7zm4 0h-2V7h2v10zm4 0h-2v-4h2v4z\"/>\n",
              "    </g>\n",
              "</svg>\n",
              "  </button>\n",
              "\n",
              "<style>\n",
              "  .colab-df-quickchart {\n",
              "      --bg-color: #E8F0FE;\n",
              "      --fill-color: #1967D2;\n",
              "      --hover-bg-color: #E2EBFA;\n",
              "      --hover-fill-color: #174EA6;\n",
              "      --disabled-fill-color: #AAA;\n",
              "      --disabled-bg-color: #DDD;\n",
              "  }\n",
              "\n",
              "  [theme=dark] .colab-df-quickchart {\n",
              "      --bg-color: #3B4455;\n",
              "      --fill-color: #D2E3FC;\n",
              "      --hover-bg-color: #434B5C;\n",
              "      --hover-fill-color: #FFFFFF;\n",
              "      --disabled-bg-color: #3B4455;\n",
              "      --disabled-fill-color: #666;\n",
              "  }\n",
              "\n",
              "  .colab-df-quickchart {\n",
              "    background-color: var(--bg-color);\n",
              "    border: none;\n",
              "    border-radius: 50%;\n",
              "    cursor: pointer;\n",
              "    display: none;\n",
              "    fill: var(--fill-color);\n",
              "    height: 32px;\n",
              "    padding: 0;\n",
              "    width: 32px;\n",
              "  }\n",
              "\n",
              "  .colab-df-quickchart:hover {\n",
              "    background-color: var(--hover-bg-color);\n",
              "    box-shadow: 0 1px 2px rgba(60, 64, 67, 0.3), 0 1px 3px 1px rgba(60, 64, 67, 0.15);\n",
              "    fill: var(--button-hover-fill-color);\n",
              "  }\n",
              "\n",
              "  .colab-df-quickchart-complete:disabled,\n",
              "  .colab-df-quickchart-complete:disabled:hover {\n",
              "    background-color: var(--disabled-bg-color);\n",
              "    fill: var(--disabled-fill-color);\n",
              "    box-shadow: none;\n",
              "  }\n",
              "\n",
              "  .colab-df-spinner {\n",
              "    border: 2px solid var(--fill-color);\n",
              "    border-color: transparent;\n",
              "    border-bottom-color: var(--fill-color);\n",
              "    animation:\n",
              "      spin 1s steps(1) infinite;\n",
              "  }\n",
              "\n",
              "  @keyframes spin {\n",
              "    0% {\n",
              "      border-color: transparent;\n",
              "      border-bottom-color: var(--fill-color);\n",
              "      border-left-color: var(--fill-color);\n",
              "    }\n",
              "    20% {\n",
              "      border-color: transparent;\n",
              "      border-left-color: var(--fill-color);\n",
              "      border-top-color: var(--fill-color);\n",
              "    }\n",
              "    30% {\n",
              "      border-color: transparent;\n",
              "      border-left-color: var(--fill-color);\n",
              "      border-top-color: var(--fill-color);\n",
              "      border-right-color: var(--fill-color);\n",
              "    }\n",
              "    40% {\n",
              "      border-color: transparent;\n",
              "      border-right-color: var(--fill-color);\n",
              "      border-top-color: var(--fill-color);\n",
              "    }\n",
              "    60% {\n",
              "      border-color: transparent;\n",
              "      border-right-color: var(--fill-color);\n",
              "    }\n",
              "    80% {\n",
              "      border-color: transparent;\n",
              "      border-right-color: var(--fill-color);\n",
              "      border-bottom-color: var(--fill-color);\n",
              "    }\n",
              "    90% {\n",
              "      border-color: transparent;\n",
              "      border-bottom-color: var(--fill-color);\n",
              "    }\n",
              "  }\n",
              "</style>\n",
              "\n",
              "  <script>\n",
              "    async function quickchart(key) {\n",
              "      const quickchartButtonEl =\n",
              "        document.querySelector('#' + key + ' button');\n",
              "      quickchartButtonEl.disabled = true;  // To prevent multiple clicks.\n",
              "      quickchartButtonEl.classList.add('colab-df-spinner');\n",
              "      try {\n",
              "        const charts = await google.colab.kernel.invokeFunction(\n",
              "            'suggestCharts', [key], {});\n",
              "      } catch (error) {\n",
              "        console.error('Error during call to suggestCharts:', error);\n",
              "      }\n",
              "      quickchartButtonEl.classList.remove('colab-df-spinner');\n",
              "      quickchartButtonEl.classList.add('colab-df-quickchart-complete');\n",
              "    }\n",
              "    (() => {\n",
              "      let quickchartButtonEl =\n",
              "        document.querySelector('#df-cb1f802c-730c-4e77-9598-8c7f7b3574cf button');\n",
              "      quickchartButtonEl.style.display =\n",
              "        google.colab.kernel.accessAllowed ? 'block' : 'none';\n",
              "    })();\n",
              "  </script>\n",
              "</div>\n",
              "\n",
              "    </div>\n",
              "  </div>\n"
            ],
            "application/vnd.google.colaboratory.intrinsic+json": {
              "type": "dataframe",
              "variable_name": "df"
            }
          },
          "metadata": {},
          "execution_count": 159
        }
      ],
      "source": [
        "df.head(10)"
      ]
    },
    {
      "cell_type": "code",
      "source": [
        "df_1.head()"
      ],
      "metadata": {
        "colab": {
          "base_uri": "https://localhost:8080/",
          "height": 206
        },
        "id": "uCj5LGfFH46Q",
        "outputId": "11bf0deb-e36a-4623-e199-937327d25ae5"
      },
      "execution_count": null,
      "outputs": [
        {
          "output_type": "execute_result",
          "data": {
            "text/plain": [
              "   lotsizesquarefeet  buildingqualitytypeid  bathroomcnt  bedroomcnt  \\\n",
              "0            40247.0                    7.0          2.0         2.0   \n",
              "1             5420.0                    4.0          2.0         4.0   \n",
              "2             9085.0                    8.0          2.0         3.0   \n",
              "3            34845.0                    9.0          3.0         5.0   \n",
              "4            11009.0                    8.0          3.0         5.0   \n",
              "\n",
              "   regionidcity  regionidneighborhood  regionidzip  yearbuilt  \\\n",
              "0       12447.0               13327.0      96072.0     2004.0   \n",
              "1       12447.0              268496.0      96018.0     1957.0   \n",
              "2       12447.0              268588.0      96339.0     1962.0   \n",
              "3       12447.0              268588.0      96339.0     1995.0   \n",
              "4       12447.0              268588.0      96339.0     1965.0   \n",
              "\n",
              "   calculatedfinishedsquarefeet  structuretaxvaluedollarcnt  \n",
              "0                        1090.0                    232897.0  \n",
              "1                        1931.0                    124789.0  \n",
              "2                        1766.0                    120205.0  \n",
              "3                        3085.0                    378688.0  \n",
              "4                        2401.0                    162046.0  "
            ],
            "text/html": [
              "\n",
              "  <div id=\"df-3dc672e3-6197-486e-9142-cc76c077a1b1\" class=\"colab-df-container\">\n",
              "    <div>\n",
              "<style scoped>\n",
              "    .dataframe tbody tr th:only-of-type {\n",
              "        vertical-align: middle;\n",
              "    }\n",
              "\n",
              "    .dataframe tbody tr th {\n",
              "        vertical-align: top;\n",
              "    }\n",
              "\n",
              "    .dataframe thead th {\n",
              "        text-align: right;\n",
              "    }\n",
              "</style>\n",
              "<table border=\"1\" class=\"dataframe\">\n",
              "  <thead>\n",
              "    <tr style=\"text-align: right;\">\n",
              "      <th></th>\n",
              "      <th>lotsizesquarefeet</th>\n",
              "      <th>buildingqualitytypeid</th>\n",
              "      <th>bathroomcnt</th>\n",
              "      <th>bedroomcnt</th>\n",
              "      <th>regionidcity</th>\n",
              "      <th>regionidneighborhood</th>\n",
              "      <th>regionidzip</th>\n",
              "      <th>yearbuilt</th>\n",
              "      <th>calculatedfinishedsquarefeet</th>\n",
              "      <th>structuretaxvaluedollarcnt</th>\n",
              "    </tr>\n",
              "  </thead>\n",
              "  <tbody>\n",
              "    <tr>\n",
              "      <th>0</th>\n",
              "      <td>40247.0</td>\n",
              "      <td>7.0</td>\n",
              "      <td>2.0</td>\n",
              "      <td>2.0</td>\n",
              "      <td>12447.0</td>\n",
              "      <td>13327.0</td>\n",
              "      <td>96072.0</td>\n",
              "      <td>2004.0</td>\n",
              "      <td>1090.0</td>\n",
              "      <td>232897.0</td>\n",
              "    </tr>\n",
              "    <tr>\n",
              "      <th>1</th>\n",
              "      <td>5420.0</td>\n",
              "      <td>4.0</td>\n",
              "      <td>2.0</td>\n",
              "      <td>4.0</td>\n",
              "      <td>12447.0</td>\n",
              "      <td>268496.0</td>\n",
              "      <td>96018.0</td>\n",
              "      <td>1957.0</td>\n",
              "      <td>1931.0</td>\n",
              "      <td>124789.0</td>\n",
              "    </tr>\n",
              "    <tr>\n",
              "      <th>2</th>\n",
              "      <td>9085.0</td>\n",
              "      <td>8.0</td>\n",
              "      <td>2.0</td>\n",
              "      <td>3.0</td>\n",
              "      <td>12447.0</td>\n",
              "      <td>268588.0</td>\n",
              "      <td>96339.0</td>\n",
              "      <td>1962.0</td>\n",
              "      <td>1766.0</td>\n",
              "      <td>120205.0</td>\n",
              "    </tr>\n",
              "    <tr>\n",
              "      <th>3</th>\n",
              "      <td>34845.0</td>\n",
              "      <td>9.0</td>\n",
              "      <td>3.0</td>\n",
              "      <td>5.0</td>\n",
              "      <td>12447.0</td>\n",
              "      <td>268588.0</td>\n",
              "      <td>96339.0</td>\n",
              "      <td>1995.0</td>\n",
              "      <td>3085.0</td>\n",
              "      <td>378688.0</td>\n",
              "    </tr>\n",
              "    <tr>\n",
              "      <th>4</th>\n",
              "      <td>11009.0</td>\n",
              "      <td>8.0</td>\n",
              "      <td>3.0</td>\n",
              "      <td>5.0</td>\n",
              "      <td>12447.0</td>\n",
              "      <td>268588.0</td>\n",
              "      <td>96339.0</td>\n",
              "      <td>1965.0</td>\n",
              "      <td>2401.0</td>\n",
              "      <td>162046.0</td>\n",
              "    </tr>\n",
              "  </tbody>\n",
              "</table>\n",
              "</div>\n",
              "    <div class=\"colab-df-buttons\">\n",
              "\n",
              "  <div class=\"colab-df-container\">\n",
              "    <button class=\"colab-df-convert\" onclick=\"convertToInteractive('df-3dc672e3-6197-486e-9142-cc76c077a1b1')\"\n",
              "            title=\"Convert this dataframe to an interactive table.\"\n",
              "            style=\"display:none;\">\n",
              "\n",
              "  <svg xmlns=\"http://www.w3.org/2000/svg\" height=\"24px\" viewBox=\"0 -960 960 960\">\n",
              "    <path d=\"M120-120v-720h720v720H120Zm60-500h600v-160H180v160Zm220 220h160v-160H400v160Zm0 220h160v-160H400v160ZM180-400h160v-160H180v160Zm440 0h160v-160H620v160ZM180-180h160v-160H180v160Zm440 0h160v-160H620v160Z\"/>\n",
              "  </svg>\n",
              "    </button>\n",
              "\n",
              "  <style>\n",
              "    .colab-df-container {\n",
              "      display:flex;\n",
              "      gap: 12px;\n",
              "    }\n",
              "\n",
              "    .colab-df-convert {\n",
              "      background-color: #E8F0FE;\n",
              "      border: none;\n",
              "      border-radius: 50%;\n",
              "      cursor: pointer;\n",
              "      display: none;\n",
              "      fill: #1967D2;\n",
              "      height: 32px;\n",
              "      padding: 0 0 0 0;\n",
              "      width: 32px;\n",
              "    }\n",
              "\n",
              "    .colab-df-convert:hover {\n",
              "      background-color: #E2EBFA;\n",
              "      box-shadow: 0px 1px 2px rgba(60, 64, 67, 0.3), 0px 1px 3px 1px rgba(60, 64, 67, 0.15);\n",
              "      fill: #174EA6;\n",
              "    }\n",
              "\n",
              "    .colab-df-buttons div {\n",
              "      margin-bottom: 4px;\n",
              "    }\n",
              "\n",
              "    [theme=dark] .colab-df-convert {\n",
              "      background-color: #3B4455;\n",
              "      fill: #D2E3FC;\n",
              "    }\n",
              "\n",
              "    [theme=dark] .colab-df-convert:hover {\n",
              "      background-color: #434B5C;\n",
              "      box-shadow: 0px 1px 3px 1px rgba(0, 0, 0, 0.15);\n",
              "      filter: drop-shadow(0px 1px 2px rgba(0, 0, 0, 0.3));\n",
              "      fill: #FFFFFF;\n",
              "    }\n",
              "  </style>\n",
              "\n",
              "    <script>\n",
              "      const buttonEl =\n",
              "        document.querySelector('#df-3dc672e3-6197-486e-9142-cc76c077a1b1 button.colab-df-convert');\n",
              "      buttonEl.style.display =\n",
              "        google.colab.kernel.accessAllowed ? 'block' : 'none';\n",
              "\n",
              "      async function convertToInteractive(key) {\n",
              "        const element = document.querySelector('#df-3dc672e3-6197-486e-9142-cc76c077a1b1');\n",
              "        const dataTable =\n",
              "          await google.colab.kernel.invokeFunction('convertToInteractive',\n",
              "                                                    [key], {});\n",
              "        if (!dataTable) return;\n",
              "\n",
              "        const docLinkHtml = 'Like what you see? Visit the ' +\n",
              "          '<a target=\"_blank\" href=https://colab.research.google.com/notebooks/data_table.ipynb>data table notebook</a>'\n",
              "          + ' to learn more about interactive tables.';\n",
              "        element.innerHTML = '';\n",
              "        dataTable['output_type'] = 'display_data';\n",
              "        await google.colab.output.renderOutput(dataTable, element);\n",
              "        const docLink = document.createElement('div');\n",
              "        docLink.innerHTML = docLinkHtml;\n",
              "        element.appendChild(docLink);\n",
              "      }\n",
              "    </script>\n",
              "  </div>\n",
              "\n",
              "\n",
              "<div id=\"df-f6565609-6151-402e-ae0e-83d9f748c587\">\n",
              "  <button class=\"colab-df-quickchart\" onclick=\"quickchart('df-f6565609-6151-402e-ae0e-83d9f748c587')\"\n",
              "            title=\"Suggest charts\"\n",
              "            style=\"display:none;\">\n",
              "\n",
              "<svg xmlns=\"http://www.w3.org/2000/svg\" height=\"24px\"viewBox=\"0 0 24 24\"\n",
              "     width=\"24px\">\n",
              "    <g>\n",
              "        <path d=\"M19 3H5c-1.1 0-2 .9-2 2v14c0 1.1.9 2 2 2h14c1.1 0 2-.9 2-2V5c0-1.1-.9-2-2-2zM9 17H7v-7h2v7zm4 0h-2V7h2v10zm4 0h-2v-4h2v4z\"/>\n",
              "    </g>\n",
              "</svg>\n",
              "  </button>\n",
              "\n",
              "<style>\n",
              "  .colab-df-quickchart {\n",
              "      --bg-color: #E8F0FE;\n",
              "      --fill-color: #1967D2;\n",
              "      --hover-bg-color: #E2EBFA;\n",
              "      --hover-fill-color: #174EA6;\n",
              "      --disabled-fill-color: #AAA;\n",
              "      --disabled-bg-color: #DDD;\n",
              "  }\n",
              "\n",
              "  [theme=dark] .colab-df-quickchart {\n",
              "      --bg-color: #3B4455;\n",
              "      --fill-color: #D2E3FC;\n",
              "      --hover-bg-color: #434B5C;\n",
              "      --hover-fill-color: #FFFFFF;\n",
              "      --disabled-bg-color: #3B4455;\n",
              "      --disabled-fill-color: #666;\n",
              "  }\n",
              "\n",
              "  .colab-df-quickchart {\n",
              "    background-color: var(--bg-color);\n",
              "    border: none;\n",
              "    border-radius: 50%;\n",
              "    cursor: pointer;\n",
              "    display: none;\n",
              "    fill: var(--fill-color);\n",
              "    height: 32px;\n",
              "    padding: 0;\n",
              "    width: 32px;\n",
              "  }\n",
              "\n",
              "  .colab-df-quickchart:hover {\n",
              "    background-color: var(--hover-bg-color);\n",
              "    box-shadow: 0 1px 2px rgba(60, 64, 67, 0.3), 0 1px 3px 1px rgba(60, 64, 67, 0.15);\n",
              "    fill: var(--button-hover-fill-color);\n",
              "  }\n",
              "\n",
              "  .colab-df-quickchart-complete:disabled,\n",
              "  .colab-df-quickchart-complete:disabled:hover {\n",
              "    background-color: var(--disabled-bg-color);\n",
              "    fill: var(--disabled-fill-color);\n",
              "    box-shadow: none;\n",
              "  }\n",
              "\n",
              "  .colab-df-spinner {\n",
              "    border: 2px solid var(--fill-color);\n",
              "    border-color: transparent;\n",
              "    border-bottom-color: var(--fill-color);\n",
              "    animation:\n",
              "      spin 1s steps(1) infinite;\n",
              "  }\n",
              "\n",
              "  @keyframes spin {\n",
              "    0% {\n",
              "      border-color: transparent;\n",
              "      border-bottom-color: var(--fill-color);\n",
              "      border-left-color: var(--fill-color);\n",
              "    }\n",
              "    20% {\n",
              "      border-color: transparent;\n",
              "      border-left-color: var(--fill-color);\n",
              "      border-top-color: var(--fill-color);\n",
              "    }\n",
              "    30% {\n",
              "      border-color: transparent;\n",
              "      border-left-color: var(--fill-color);\n",
              "      border-top-color: var(--fill-color);\n",
              "      border-right-color: var(--fill-color);\n",
              "    }\n",
              "    40% {\n",
              "      border-color: transparent;\n",
              "      border-right-color: var(--fill-color);\n",
              "      border-top-color: var(--fill-color);\n",
              "    }\n",
              "    60% {\n",
              "      border-color: transparent;\n",
              "      border-right-color: var(--fill-color);\n",
              "    }\n",
              "    80% {\n",
              "      border-color: transparent;\n",
              "      border-right-color: var(--fill-color);\n",
              "      border-bottom-color: var(--fill-color);\n",
              "    }\n",
              "    90% {\n",
              "      border-color: transparent;\n",
              "      border-bottom-color: var(--fill-color);\n",
              "    }\n",
              "  }\n",
              "</style>\n",
              "\n",
              "  <script>\n",
              "    async function quickchart(key) {\n",
              "      const quickchartButtonEl =\n",
              "        document.querySelector('#' + key + ' button');\n",
              "      quickchartButtonEl.disabled = true;  // To prevent multiple clicks.\n",
              "      quickchartButtonEl.classList.add('colab-df-spinner');\n",
              "      try {\n",
              "        const charts = await google.colab.kernel.invokeFunction(\n",
              "            'suggestCharts', [key], {});\n",
              "      } catch (error) {\n",
              "        console.error('Error during call to suggestCharts:', error);\n",
              "      }\n",
              "      quickchartButtonEl.classList.remove('colab-df-spinner');\n",
              "      quickchartButtonEl.classList.add('colab-df-quickchart-complete');\n",
              "    }\n",
              "    (() => {\n",
              "      let quickchartButtonEl =\n",
              "        document.querySelector('#df-f6565609-6151-402e-ae0e-83d9f748c587 button');\n",
              "      quickchartButtonEl.style.display =\n",
              "        google.colab.kernel.accessAllowed ? 'block' : 'none';\n",
              "    })();\n",
              "  </script>\n",
              "</div>\n",
              "\n",
              "    </div>\n",
              "  </div>\n"
            ],
            "application/vnd.google.colaboratory.intrinsic+json": {
              "type": "dataframe",
              "variable_name": "df_1"
            }
          },
          "metadata": {},
          "execution_count": 160
        }
      ]
    },
    {
      "cell_type": "markdown",
      "metadata": {
        "id": "c5WHCKeJEKvo"
      },
      "source": [
        "The dataset that we have now is in what we call a pandas dataframe. However, arrays are easier to use for analytics and data mining. So, to convert it to an array, simply access its values:"
      ]
    },
    {
      "cell_type": "code",
      "execution_count": null,
      "metadata": {
        "id": "bV-ncvyOEKvo"
      },
      "outputs": [],
      "source": [
        "dataset = df.values\n",
        "dataset_1=df_1.values #Creating Dataset to build model 2"
      ]
    },
    {
      "cell_type": "code",
      "execution_count": null,
      "metadata": {
        "colab": {
          "base_uri": "https://localhost:8080/"
        },
        "id": "HRfRMT3TEKvp",
        "outputId": "ed4738ea-1496-4776-d802-89b14a129cbd"
      },
      "outputs": [
        {
          "output_type": "execute_result",
          "data": {
            "text/plain": [
              "array([[4.02470e+04, 7.00000e+00, 2.00000e+00, ..., 4.02470e+04,\n",
              "        1.09000e+03, 2.32897e+05],\n",
              "       [5.42000e+03, 4.00000e+00, 2.00000e+00, ..., 5.42000e+03,\n",
              "        1.93100e+03, 1.24789e+05],\n",
              "       [9.08500e+03, 8.00000e+00, 2.00000e+00, ..., 9.08500e+03,\n",
              "        1.76600e+03, 1.20205e+05],\n",
              "       ...,\n",
              "       [4.65600e+03, 4.00000e+00, 2.00000e+00, ..., 4.65600e+03,\n",
              "        1.11400e+03, 6.82760e+04],\n",
              "       [4.84000e+03, 4.00000e+00, 2.00000e+00, ..., 4.84000e+03,\n",
              "        1.43600e+03, 9.51010e+04],\n",
              "       [4.07900e+03, 6.00000e+00, 2.00000e+00, ..., 4.07900e+03,\n",
              "        1.27000e+03, 6.36380e+04]])"
            ]
          },
          "metadata": {},
          "execution_count": 162
        }
      ],
      "source": [
        "dataset"
      ]
    },
    {
      "cell_type": "markdown",
      "metadata": {
        "id": "9KatbiWJEKvp"
      },
      "source": [
        "Now, we split the dataset into our input features and the label we wish to predict."
      ]
    },
    {
      "cell_type": "code",
      "execution_count": null,
      "metadata": {
        "id": "4TP5xCeoEKvp"
      },
      "outputs": [],
      "source": [
        "X = dataset[:,0:12]\n",
        "Y = dataset[:,12]\n",
        "\n",
        "X_1 = dataset_1[:,0:9]\n",
        "Y_1 = dataset_1[:,9]"
      ]
    },
    {
      "cell_type": "code",
      "source": [
        "X_1.shape"
      ],
      "metadata": {
        "colab": {
          "base_uri": "https://localhost:8080/"
        },
        "id": "2MR6yAFuIpih",
        "outputId": "d6acaccc-8ca5-4d8a-cb8d-c97665280e26"
      },
      "execution_count": null,
      "outputs": [
        {
          "output_type": "execute_result",
          "data": {
            "text/plain": [
              "(904287, 9)"
            ]
          },
          "metadata": {},
          "execution_count": 164
        }
      ]
    },
    {
      "cell_type": "code",
      "source": [
        "Y_1.shape"
      ],
      "metadata": {
        "colab": {
          "base_uri": "https://localhost:8080/"
        },
        "id": "m4xlTqrEI3D7",
        "outputId": "c426e2cc-daab-4ff1-c093-b55f671c81ca"
      },
      "execution_count": null,
      "outputs": [
        {
          "output_type": "execute_result",
          "data": {
            "text/plain": [
              "(904287,)"
            ]
          },
          "metadata": {},
          "execution_count": 165
        }
      ]
    },
    {
      "cell_type": "code",
      "execution_count": null,
      "metadata": {
        "colab": {
          "base_uri": "https://localhost:8080/"
        },
        "id": "VFGSoNi0EKvp",
        "outputId": "236e9796-4f65-4aca-84d3-bf0a85a65b14"
      },
      "outputs": [
        {
          "output_type": "execute_result",
          "data": {
            "text/plain": [
              "(904287, 12)"
            ]
          },
          "metadata": {},
          "execution_count": 166
        }
      ],
      "source": [
        "X.shape"
      ]
    },
    {
      "cell_type": "code",
      "execution_count": null,
      "metadata": {
        "colab": {
          "base_uri": "https://localhost:8080/"
        },
        "id": "Gy1UhRzfEKvp",
        "outputId": "adc504ee-0481-4385-f3f7-0730a6f62f75"
      },
      "outputs": [
        {
          "output_type": "execute_result",
          "data": {
            "text/plain": [
              "(904287,)"
            ]
          },
          "metadata": {},
          "execution_count": 167
        }
      ],
      "source": [
        "Y.shape"
      ]
    },
    {
      "cell_type": "markdown",
      "metadata": {
        "id": "FJGBpBjBEKvp"
      },
      "source": [
        "Normalizing our data is very important, as we want the input features to be on the same order of magnitude to make our training easier. We'll use a min-max scaler from scikit-learn which scales our data to be between 0 and 1."
      ]
    },
    {
      "cell_type": "code",
      "execution_count": null,
      "metadata": {
        "id": "j2mqfU48EKvp"
      },
      "outputs": [],
      "source": [
        "#!conda install sklearn\n",
        "#!pip3 install sklearn"
      ]
    },
    {
      "cell_type": "code",
      "execution_count": null,
      "metadata": {
        "id": "fRBdXfTGEKvp"
      },
      "outputs": [],
      "source": [
        "from sklearn import preprocessing"
      ]
    },
    {
      "cell_type": "code",
      "execution_count": null,
      "metadata": {
        "id": "YBmHGurlEKvp"
      },
      "outputs": [],
      "source": [
        "min_max_scaler = preprocessing.MinMaxScaler()\n",
        "X_scale = min_max_scaler.fit_transform(X)\n",
        "X_1_scale = min_max_scaler.fit_transform(X_1)"
      ]
    },
    {
      "cell_type": "code",
      "execution_count": null,
      "metadata": {
        "colab": {
          "base_uri": "https://localhost:8080/"
        },
        "id": "YyA5miobEKvp",
        "outputId": "99a4e1f3-f815-4909-b338-7884fb0e135a"
      },
      "outputs": [
        {
          "output_type": "execute_result",
          "data": {
            "text/plain": [
              "array([[6.09901968e-03, 5.45454545e-01, 5.26315789e-02, ...,\n",
              "        0.00000000e+00, 6.09901968e-03, 1.83893683e-02],\n",
              "       [8.02394530e-04, 2.72727273e-01, 5.26315789e-02, ...,\n",
              "        0.00000000e+00, 8.02394530e-04, 3.25908914e-02],\n",
              "       [1.35978194e-03, 6.36363636e-01, 5.26315789e-02, ...,\n",
              "        0.00000000e+00, 1.35978194e-03, 2.98046235e-02],\n",
              "       ...,\n",
              "       [6.86202449e-04, 2.72727273e-01, 5.26315789e-02, ...,\n",
              "        0.00000000e+00, 6.86202449e-04, 1.87946436e-02],\n",
              "       [7.14185882e-04, 2.72727273e-01, 5.26315789e-02, ...,\n",
              "        0.00000000e+00, 7.14185882e-04, 2.42320877e-02],\n",
              "       [5.98450052e-04, 4.54545455e-01, 5.26315789e-02, ...,\n",
              "        0.00000000e+00, 5.98450052e-04, 2.14289333e-02]])"
            ]
          },
          "metadata": {},
          "execution_count": 171
        }
      ],
      "source": [
        "X_scale"
      ]
    },
    {
      "cell_type": "markdown",
      "metadata": {
        "id": "ENHkMXBVEKvq"
      },
      "source": [
        "Lastly, we wish to set aside some parts of our dataset for a validation set and a test set. We use the function train_test_split from scikit-learn to do that."
      ]
    },
    {
      "cell_type": "code",
      "execution_count": null,
      "metadata": {
        "id": "1rl4mUDdEKvq"
      },
      "outputs": [],
      "source": [
        "from sklearn.model_selection import train_test_split"
      ]
    },
    {
      "cell_type": "markdown",
      "metadata": {
        "id": "8OLcdRODEKvq"
      },
      "source": [
        "First, we split the training data. The remaining 30% of the data is used for testing and validation."
      ]
    },
    {
      "cell_type": "code",
      "execution_count": null,
      "metadata": {
        "id": "I_DGpJWIEKvq"
      },
      "outputs": [],
      "source": [
        "X_train, X_val_and_test, Y_train, Y_val_and_test = train_test_split(X_scale, Y, test_size=0.3)\n",
        "X_1_train, X_1_val_and_test, Y_1_train, Y_1_val_and_test = train_test_split(X_1_scale, Y_1, test_size=0.3)"
      ]
    },
    {
      "cell_type": "markdown",
      "metadata": {
        "id": "hsqhfrPNEKvq"
      },
      "source": [
        "So, we next need to split our training and validation data."
      ]
    },
    {
      "cell_type": "code",
      "execution_count": null,
      "metadata": {
        "id": "WWQwx7dGEKvq"
      },
      "outputs": [],
      "source": [
        "X_val, X_test, Y_val, Y_test = train_test_split(X_val_and_test, Y_val_and_test, test_size=0.5)\n",
        "X_1_val, X_1_test, Y_1_val, Y_1_test = train_test_split(X_1_val_and_test, Y_1_val_and_test, test_size=0.5)"
      ]
    },
    {
      "cell_type": "code",
      "execution_count": null,
      "metadata": {
        "colab": {
          "base_uri": "https://localhost:8080/"
        },
        "id": "pc0S0gw2EKvq",
        "outputId": "cdc47991-ccc2-48dd-cad8-16272a04fd03"
      },
      "outputs": [
        {
          "output_type": "stream",
          "name": "stdout",
          "text": [
            "(633000, 12) (135643, 12) (135644, 12) (633000,) (135643,) (135644,)\n"
          ]
        }
      ],
      "source": [
        "print(X_train.shape, X_val.shape, X_test.shape, Y_train.shape, Y_val.shape, Y_test.shape)"
      ]
    },
    {
      "cell_type": "code",
      "source": [
        "print(X_1_train.shape, X_1_val.shape, X_1_test.shape, Y_1_train.shape, Y_1_val.shape, Y_1_test.shape)"
      ],
      "metadata": {
        "colab": {
          "base_uri": "https://localhost:8080/"
        },
        "id": "RMoPOCUCJxmz",
        "outputId": "524d858e-fcfb-4e60-8184-92c0165720c7"
      },
      "execution_count": null,
      "outputs": [
        {
          "output_type": "stream",
          "name": "stdout",
          "text": [
            "(633000, 9) (135643, 9) (135644, 9) (633000,) (135643,) (135644,)\n"
          ]
        }
      ]
    },
    {
      "cell_type": "markdown",
      "metadata": {
        "id": "DtLolKLBEKvq"
      },
      "source": [
        "# Building and Training Our First Neural Network"
      ]
    },
    {
      "cell_type": "markdown",
      "metadata": {
        "id": "FyM_I8LYEKvq"
      },
      "source": [
        "We will be using Keras to build our architecture. Let's import the code from Keras that we will need to use:"
      ]
    },
    {
      "cell_type": "code",
      "execution_count": null,
      "metadata": {
        "colab": {
          "base_uri": "https://localhost:8080/"
        },
        "id": "vui0Tp7GEKvq",
        "outputId": "e7818c40-9f01-4b32-a31a-b34aa2c9bb06"
      },
      "outputs": [
        {
          "output_type": "stream",
          "name": "stdout",
          "text": [
            "Requirement already satisfied: tensorflow in /usr/local/lib/python3.10/dist-packages (2.17.0)\n",
            "Requirement already satisfied: absl-py>=1.0.0 in /usr/local/lib/python3.10/dist-packages (from tensorflow) (1.4.0)\n",
            "Requirement already satisfied: astunparse>=1.6.0 in /usr/local/lib/python3.10/dist-packages (from tensorflow) (1.6.3)\n",
            "Requirement already satisfied: flatbuffers>=24.3.25 in /usr/local/lib/python3.10/dist-packages (from tensorflow) (24.3.25)\n",
            "Requirement already satisfied: gast!=0.5.0,!=0.5.1,!=0.5.2,>=0.2.1 in /usr/local/lib/python3.10/dist-packages (from tensorflow) (0.6.0)\n",
            "Requirement already satisfied: google-pasta>=0.1.1 in /usr/local/lib/python3.10/dist-packages (from tensorflow) (0.2.0)\n",
            "Requirement already satisfied: h5py>=3.10.0 in /usr/local/lib/python3.10/dist-packages (from tensorflow) (3.11.0)\n",
            "Requirement already satisfied: libclang>=13.0.0 in /usr/local/lib/python3.10/dist-packages (from tensorflow) (18.1.1)\n",
            "Requirement already satisfied: ml-dtypes<0.5.0,>=0.3.1 in /usr/local/lib/python3.10/dist-packages (from tensorflow) (0.4.1)\n",
            "Requirement already satisfied: opt-einsum>=2.3.2 in /usr/local/lib/python3.10/dist-packages (from tensorflow) (3.4.0)\n",
            "Requirement already satisfied: packaging in /usr/local/lib/python3.10/dist-packages (from tensorflow) (24.1)\n",
            "Requirement already satisfied: protobuf!=4.21.0,!=4.21.1,!=4.21.2,!=4.21.3,!=4.21.4,!=4.21.5,<5.0.0dev,>=3.20.3 in /usr/local/lib/python3.10/dist-packages (from tensorflow) (3.20.3)\n",
            "Requirement already satisfied: requests<3,>=2.21.0 in /usr/local/lib/python3.10/dist-packages (from tensorflow) (2.32.3)\n",
            "Requirement already satisfied: setuptools in /usr/local/lib/python3.10/dist-packages (from tensorflow) (71.0.4)\n",
            "Requirement already satisfied: six>=1.12.0 in /usr/local/lib/python3.10/dist-packages (from tensorflow) (1.16.0)\n",
            "Requirement already satisfied: termcolor>=1.1.0 in /usr/local/lib/python3.10/dist-packages (from tensorflow) (2.5.0)\n",
            "Requirement already satisfied: typing-extensions>=3.6.6 in /usr/local/lib/python3.10/dist-packages (from tensorflow) (4.12.2)\n",
            "Requirement already satisfied: wrapt>=1.11.0 in /usr/local/lib/python3.10/dist-packages (from tensorflow) (1.16.0)\n",
            "Requirement already satisfied: grpcio<2.0,>=1.24.3 in /usr/local/lib/python3.10/dist-packages (from tensorflow) (1.64.1)\n",
            "Requirement already satisfied: tensorboard<2.18,>=2.17 in /usr/local/lib/python3.10/dist-packages (from tensorflow) (2.17.0)\n",
            "Requirement already satisfied: keras>=3.2.0 in /usr/local/lib/python3.10/dist-packages (from tensorflow) (3.4.1)\n",
            "Requirement already satisfied: tensorflow-io-gcs-filesystem>=0.23.1 in /usr/local/lib/python3.10/dist-packages (from tensorflow) (0.37.1)\n",
            "Requirement already satisfied: numpy<2.0.0,>=1.23.5 in /usr/local/lib/python3.10/dist-packages (from tensorflow) (1.26.4)\n",
            "Requirement already satisfied: wheel<1.0,>=0.23.0 in /usr/local/lib/python3.10/dist-packages (from astunparse>=1.6.0->tensorflow) (0.44.0)\n",
            "Requirement already satisfied: rich in /usr/local/lib/python3.10/dist-packages (from keras>=3.2.0->tensorflow) (13.9.2)\n",
            "Requirement already satisfied: namex in /usr/local/lib/python3.10/dist-packages (from keras>=3.2.0->tensorflow) (0.0.8)\n",
            "Requirement already satisfied: optree in /usr/local/lib/python3.10/dist-packages (from keras>=3.2.0->tensorflow) (0.13.0)\n",
            "Requirement already satisfied: charset-normalizer<4,>=2 in /usr/local/lib/python3.10/dist-packages (from requests<3,>=2.21.0->tensorflow) (3.4.0)\n",
            "Requirement already satisfied: idna<4,>=2.5 in /usr/local/lib/python3.10/dist-packages (from requests<3,>=2.21.0->tensorflow) (3.10)\n",
            "Requirement already satisfied: urllib3<3,>=1.21.1 in /usr/local/lib/python3.10/dist-packages (from requests<3,>=2.21.0->tensorflow) (2.2.3)\n",
            "Requirement already satisfied: certifi>=2017.4.17 in /usr/local/lib/python3.10/dist-packages (from requests<3,>=2.21.0->tensorflow) (2024.8.30)\n",
            "Requirement already satisfied: markdown>=2.6.8 in /usr/local/lib/python3.10/dist-packages (from tensorboard<2.18,>=2.17->tensorflow) (3.7)\n",
            "Requirement already satisfied: tensorboard-data-server<0.8.0,>=0.7.0 in /usr/local/lib/python3.10/dist-packages (from tensorboard<2.18,>=2.17->tensorflow) (0.7.2)\n",
            "Requirement already satisfied: werkzeug>=1.0.1 in /usr/local/lib/python3.10/dist-packages (from tensorboard<2.18,>=2.17->tensorflow) (3.0.4)\n",
            "Requirement already satisfied: MarkupSafe>=2.1.1 in /usr/local/lib/python3.10/dist-packages (from werkzeug>=1.0.1->tensorboard<2.18,>=2.17->tensorflow) (3.0.1)\n",
            "Requirement already satisfied: markdown-it-py>=2.2.0 in /usr/local/lib/python3.10/dist-packages (from rich->keras>=3.2.0->tensorflow) (3.0.0)\n",
            "Requirement already satisfied: pygments<3.0.0,>=2.13.0 in /usr/local/lib/python3.10/dist-packages (from rich->keras>=3.2.0->tensorflow) (2.18.0)\n",
            "Requirement already satisfied: mdurl~=0.1 in /usr/local/lib/python3.10/dist-packages (from markdown-it-py>=2.2.0->rich->keras>=3.2.0->tensorflow) (0.1.2)\n"
          ]
        }
      ],
      "source": [
        "#!conda install tensorflow\n",
        "!pip3 install tensorflow"
      ]
    },
    {
      "cell_type": "code",
      "execution_count": null,
      "metadata": {
        "id": "0Kx7GCxZEKvq"
      },
      "outputs": [],
      "source": [
        "from tensorflow import keras"
      ]
    },
    {
      "cell_type": "markdown",
      "metadata": {
        "id": "cT6pWBVtEKvq"
      },
      "source": [
        "We will be using the Sequential model, which means that we merely need to describe the layers above in sequence. Our neural network has three layers:\n",
        "\n",
        "- Hidden layer 1: 30 neurons, ReLU activation\n",
        "- Hidden layer 2: 30 neurons, ReLU activation\n",
        "- Output Layer: 1 neuron, Sigmoid activation"
      ]
    },
    {
      "cell_type": "code",
      "execution_count": null,
      "metadata": {
        "colab": {
          "base_uri": "https://localhost:8080/"
        },
        "id": "fjb85NqZEKvr",
        "outputId": "077e27e1-16c8-4cf2-bf93-d3b550c88169"
      },
      "outputs": [
        {
          "output_type": "stream",
          "name": "stderr",
          "text": [
            "/usr/local/lib/python3.10/dist-packages/keras/src/layers/core/dense.py:87: UserWarning: Do not pass an `input_shape`/`input_dim` argument to a layer. When using Sequential models, prefer using an `Input(shape)` object as the first layer in the model instead.\n",
            "  super().__init__(activity_regularizer=activity_regularizer, **kwargs)\n"
          ]
        }
      ],
      "source": [
        "model = keras.models.Sequential([\n",
        "    keras.layers.Dense(12, activation='elu', input_shape=(12,)),\n",
        "    keras.layers.Dense(32, activation='elu'),\n",
        "    keras.layers.Dense(16, activation='elu'),\n",
        "    keras.layers.Dense(1, activation='linear'),\n",
        "])"
      ]
    },
    {
      "cell_type": "code",
      "source": [],
      "metadata": {
        "id": "2cU2DzpFN0O_"
      },
      "execution_count": null,
      "outputs": []
    },
    {
      "cell_type": "markdown",
      "metadata": {
        "id": "dzTUPjBrEKvr"
      },
      "source": [
        "Now that we've got our architecture specified, we need to find the best numbers for it. Before we start our training, we have to configure the model by\n",
        "- Telling it what algorithm you want to use to do the optimization (we'll use stochastic gradient descent)\n",
        "- Telling it what loss function to use (for binary classification, we will use binary cross entropy)\n",
        "- Telling it what other metrics you want to track apart from the loss function (we want to track accuracy as well)\n",
        "\n",
        "We do so below:"
      ]
    },
    {
      "cell_type": "code",
      "execution_count": null,
      "metadata": {
        "id": "Obmm6RftEKvr"
      },
      "outputs": [],
      "source": [
        "adam = keras.optimizers.Adam()#lr=0.001)\n",
        "model.compile(loss='mse', optimizer=adam, metrics=['mse','mae'])"
      ]
    },
    {
      "cell_type": "code",
      "source": [],
      "metadata": {
        "id": "XE3TfXIsOMsR"
      },
      "execution_count": null,
      "outputs": []
    },
    {
      "cell_type": "markdown",
      "metadata": {
        "id": "jXYQvC0pEKvr"
      },
      "source": [
        "Training on the data is pretty straightforward and requires us to write one line of code. The function is called 'fit' as we are fitting the parameters to the data. We specify:\n",
        "- what data we are training on, which is X_train and Y_train\n",
        "- the size of our mini-batch\n",
        "- how long we want to train it for (epochs)\n",
        "- what our validation data is so that the model will tell us how we are doing on the validation data at each point.\n",
        "\n",
        "This function will output a history, which we save under the variable hist. We'll use this variable a little later."
      ]
    },
    {
      "cell_type": "code",
      "execution_count": null,
      "metadata": {
        "scrolled": false,
        "colab": {
          "base_uri": "https://localhost:8080/"
        },
        "id": "eXbbnBrlEKvr",
        "outputId": "33a9a97d-782b-429b-fc82-03bbfb6cdd4b"
      },
      "outputs": [
        {
          "output_type": "stream",
          "name": "stdout",
          "text": [
            "Epoch 1/30\n",
            "\u001b[1m619/619\u001b[0m \u001b[32m━━━━━━━━━━━━━━━━━━━━\u001b[0m\u001b[37m\u001b[0m \u001b[1m9s\u001b[0m 9ms/step - loss: 74328915968.0000 - mae: 172810.8438 - mse: 74328915968.0000 - val_loss: 67446706176.0000 - val_mae: 162618.9844 - val_mse: 67446706176.0000\n",
            "Epoch 2/30\n",
            "\u001b[1m619/619\u001b[0m \u001b[32m━━━━━━━━━━━━━━━━━━━━\u001b[0m\u001b[37m\u001b[0m \u001b[1m10s\u001b[0m 9ms/step - loss: 62405996544.0000 - mae: 149157.8594 - mse: 62405996544.0000 - val_loss: 44301819904.0000 - val_mae: 96259.5391 - val_mse: 44301819904.0000\n",
            "Epoch 3/30\n",
            "\u001b[1m619/619\u001b[0m \u001b[32m━━━━━━━━━━━━━━━━━━━━\u001b[0m\u001b[37m\u001b[0m \u001b[1m5s\u001b[0m 7ms/step - loss: 41705381888.0000 - mae: 93877.1406 - mse: 41705381888.0000 - val_loss: 37413257216.0000 - val_mae: 98829.7891 - val_mse: 37413257216.0000\n",
            "Epoch 4/30\n",
            "\u001b[1m619/619\u001b[0m \u001b[32m━━━━━━━━━━━━━━━━━━━━\u001b[0m\u001b[37m\u001b[0m \u001b[1m2s\u001b[0m 3ms/step - loss: 38133342208.0000 - mae: 99306.3203 - mse: 38133342208.0000 - val_loss: 35301908480.0000 - val_mae: 91974.5938 - val_mse: 35301908480.0000\n",
            "Epoch 5/30\n",
            "\u001b[1m619/619\u001b[0m \u001b[32m━━━━━━━━━━━━━━━━━━━━\u001b[0m\u001b[37m\u001b[0m \u001b[1m2s\u001b[0m 3ms/step - loss: 34492948480.0000 - mae: 90880.6484 - mse: 34492948480.0000 - val_loss: 30653755392.0000 - val_mae: 82289.2578 - val_mse: 30653755392.0000\n",
            "Epoch 6/30\n",
            "\u001b[1m619/619\u001b[0m \u001b[32m━━━━━━━━━━━━━━━━━━━━\u001b[0m\u001b[37m\u001b[0m \u001b[1m2s\u001b[0m 3ms/step - loss: 33020411904.0000 - mae: 81443.5547 - mse: 33020411904.0000 - val_loss: 26891663360.0000 - val_mae: 79521.8594 - val_mse: 26891663360.0000\n",
            "Epoch 7/30\n",
            "\u001b[1m619/619\u001b[0m \u001b[32m━━━━━━━━━━━━━━━━━━━━\u001b[0m\u001b[37m\u001b[0m \u001b[1m3s\u001b[0m 3ms/step - loss: 26153635840.0000 - mae: 80323.7578 - mse: 26153635840.0000 - val_loss: 25797765120.0000 - val_mae: 81718.0547 - val_mse: 25797765120.0000\n",
            "Epoch 8/30\n",
            "\u001b[1m619/619\u001b[0m \u001b[32m━━━━━━━━━━━━━━━━━━━━\u001b[0m\u001b[37m\u001b[0m \u001b[1m4s\u001b[0m 5ms/step - loss: 26009047040.0000 - mae: 82764.2109 - mse: 26009047040.0000 - val_loss: 25218842624.0000 - val_mae: 83912.2656 - val_mse: 25218842624.0000\n",
            "Epoch 9/30\n",
            "\u001b[1m619/619\u001b[0m \u001b[32m━━━━━━━━━━━━━━━━━━━━\u001b[0m\u001b[37m\u001b[0m \u001b[1m4s\u001b[0m 3ms/step - loss: 26325225472.0000 - mae: 84657.4766 - mse: 26325225472.0000 - val_loss: 24951605248.0000 - val_mae: 84482.8516 - val_mse: 24951605248.0000\n",
            "Epoch 10/30\n",
            "\u001b[1m619/619\u001b[0m \u001b[32m━━━━━━━━━━━━━━━━━━━━\u001b[0m\u001b[37m\u001b[0m \u001b[1m3s\u001b[0m 3ms/step - loss: 26530082816.0000 - mae: 84803.2812 - mse: 26530082816.0000 - val_loss: 24729702400.0000 - val_mae: 84681.2500 - val_mse: 24729702400.0000\n",
            "Epoch 11/30\n",
            "\u001b[1m619/619\u001b[0m \u001b[32m━━━━━━━━━━━━━━━━━━━━\u001b[0m\u001b[37m\u001b[0m \u001b[1m2s\u001b[0m 3ms/step - loss: 25531607040.0000 - mae: 84693.1875 - mse: 25531607040.0000 - val_loss: 24390125568.0000 - val_mae: 83904.9766 - val_mse: 24390125568.0000\n",
            "Epoch 12/30\n",
            "\u001b[1m619/619\u001b[0m \u001b[32m━━━━━━━━━━━━━━━━━━━━\u001b[0m\u001b[37m\u001b[0m \u001b[1m3s\u001b[0m 5ms/step - loss: 23471118336.0000 - mae: 83280.0078 - mse: 23471118336.0000 - val_loss: 23598530560.0000 - val_mae: 80381.9766 - val_mse: 23598530560.0000\n",
            "Epoch 13/30\n",
            "\u001b[1m619/619\u001b[0m \u001b[32m━━━━━━━━━━━━━━━━━━━━\u001b[0m\u001b[37m\u001b[0m \u001b[1m4s\u001b[0m 3ms/step - loss: 23210016768.0000 - mae: 79764.7891 - mse: 23210016768.0000 - val_loss: 22609975296.0000 - val_mae: 76319.0000 - val_mse: 22609975296.0000\n",
            "Epoch 14/30\n",
            "\u001b[1m619/619\u001b[0m \u001b[32m━━━━━━━━━━━━━━━━━━━━\u001b[0m\u001b[37m\u001b[0m \u001b[1m2s\u001b[0m 3ms/step - loss: 21861810176.0000 - mae: 75673.0938 - mse: 21861810176.0000 - val_loss: 21873369088.0000 - val_mae: 74363.8047 - val_mse: 21873369088.0000\n",
            "Epoch 15/30\n",
            "\u001b[1m619/619\u001b[0m \u001b[32m━━━━━━━━━━━━━━━━━━━━\u001b[0m\u001b[37m\u001b[0m \u001b[1m3s\u001b[0m 3ms/step - loss: 22427867136.0000 - mae: 74247.8438 - mse: 22427867136.0000 - val_loss: 21271142400.0000 - val_mae: 72548.9453 - val_mse: 21271142400.0000\n",
            "Epoch 16/30\n",
            "\u001b[1m619/619\u001b[0m \u001b[32m━━━━━━━━━━━━━━━━━━━━\u001b[0m\u001b[37m\u001b[0m \u001b[1m3s\u001b[0m 5ms/step - loss: 21949159424.0000 - mae: 72754.0312 - mse: 21949159424.0000 - val_loss: 20832266240.0000 - val_mae: 71649.2656 - val_mse: 20832266240.0000\n",
            "Epoch 17/30\n",
            "\u001b[1m619/619\u001b[0m \u001b[32m━━━━━━━━━━━━━━━━━━━━\u001b[0m\u001b[37m\u001b[0m \u001b[1m3s\u001b[0m 5ms/step - loss: 21636505600.0000 - mae: 72211.2031 - mse: 21636505600.0000 - val_loss: 20524781568.0000 - val_mae: 71455.0234 - val_mse: 20524781568.0000\n",
            "Epoch 18/30\n",
            "\u001b[1m619/619\u001b[0m \u001b[32m━━━━━━━━━━━━━━━━━━━━\u001b[0m\u001b[37m\u001b[0m \u001b[1m4s\u001b[0m 3ms/step - loss: 19754301440.0000 - mae: 71679.2500 - mse: 19754301440.0000 - val_loss: 20289265664.0000 - val_mae: 70843.3125 - val_mse: 20289265664.0000\n",
            "Epoch 19/30\n",
            "\u001b[1m619/619\u001b[0m \u001b[32m━━━━━━━━━━━━━━━━━━━━\u001b[0m\u001b[37m\u001b[0m \u001b[1m2s\u001b[0m 3ms/step - loss: 20595001344.0000 - mae: 71416.1875 - mse: 20595001344.0000 - val_loss: 20101894144.0000 - val_mae: 70887.1719 - val_mse: 20101894144.0000\n",
            "Epoch 20/30\n",
            "\u001b[1m619/619\u001b[0m \u001b[32m━━━━━━━━━━━━━━━━━━━━\u001b[0m\u001b[37m\u001b[0m \u001b[1m2s\u001b[0m 3ms/step - loss: 19819864064.0000 - mae: 71175.4766 - mse: 19819864064.0000 - val_loss: 19953186816.0000 - val_mae: 71241.8828 - val_mse: 19953186816.0000\n",
            "Epoch 21/30\n",
            "\u001b[1m619/619\u001b[0m \u001b[32m━━━━━━━━━━━━━━━━━━━━\u001b[0m\u001b[37m\u001b[0m \u001b[1m3s\u001b[0m 4ms/step - loss: 22783258624.0000 - mae: 71578.3359 - mse: 22783258624.0000 - val_loss: 19802238976.0000 - val_mae: 70686.4375 - val_mse: 19802238976.0000\n",
            "Epoch 22/30\n",
            "\u001b[1m619/619\u001b[0m \u001b[32m━━━━━━━━━━━━━━━━━━━━\u001b[0m\u001b[37m\u001b[0m \u001b[1m3s\u001b[0m 5ms/step - loss: 21055080448.0000 - mae: 71013.2109 - mse: 21055080448.0000 - val_loss: 19678992384.0000 - val_mae: 70132.3984 - val_mse: 19678992384.0000\n",
            "Epoch 23/30\n",
            "\u001b[1m619/619\u001b[0m \u001b[32m━━━━━━━━━━━━━━━━━━━━\u001b[0m\u001b[37m\u001b[0m \u001b[1m2s\u001b[0m 3ms/step - loss: 19841556480.0000 - mae: 71056.5234 - mse: 19841556480.0000 - val_loss: 19551068160.0000 - val_mae: 70425.0859 - val_mse: 19551068160.0000\n",
            "Epoch 24/30\n",
            "\u001b[1m619/619\u001b[0m \u001b[32m━━━━━━━━━━━━━━━━━━━━\u001b[0m\u001b[37m\u001b[0m \u001b[1m2s\u001b[0m 3ms/step - loss: 19451598848.0000 - mae: 70703.2266 - mse: 19451598848.0000 - val_loss: 19433887744.0000 - val_mae: 70058.9531 - val_mse: 19433887744.0000\n",
            "Epoch 25/30\n",
            "\u001b[1m619/619\u001b[0m \u001b[32m━━━━━━━━━━━━━━━━━━━━\u001b[0m\u001b[37m\u001b[0m \u001b[1m3s\u001b[0m 3ms/step - loss: 20936597504.0000 - mae: 70641.0156 - mse: 20936597504.0000 - val_loss: 19324684288.0000 - val_mae: 70034.6406 - val_mse: 19324684288.0000\n",
            "Epoch 26/30\n",
            "\u001b[1m619/619\u001b[0m \u001b[32m━━━━━━━━━━━━━━━━━━━━\u001b[0m\u001b[37m\u001b[0m \u001b[1m2s\u001b[0m 3ms/step - loss: 20911255552.0000 - mae: 70823.1562 - mse: 20911255552.0000 - val_loss: 19217840128.0000 - val_mae: 69724.2734 - val_mse: 19217840128.0000\n",
            "Epoch 27/30\n",
            "\u001b[1m619/619\u001b[0m \u001b[32m━━━━━━━━━━━━━━━━━━━━\u001b[0m\u001b[37m\u001b[0m \u001b[1m4s\u001b[0m 5ms/step - loss: 21599115264.0000 - mae: 70164.1406 - mse: 21599115264.0000 - val_loss: 19128205312.0000 - val_mae: 69905.6406 - val_mse: 19128205312.0000\n",
            "Epoch 28/30\n",
            "\u001b[1m619/619\u001b[0m \u001b[32m━━━━━━━━━━━━━━━━━━━━\u001b[0m\u001b[37m\u001b[0m \u001b[1m2s\u001b[0m 4ms/step - loss: 22457923584.0000 - mae: 70238.5078 - mse: 22457923584.0000 - val_loss: 19022000128.0000 - val_mae: 69298.9375 - val_mse: 19022000128.0000\n",
            "Epoch 29/30\n",
            "\u001b[1m619/619\u001b[0m \u001b[32m━━━━━━━━━━━━━━━━━━━━\u001b[0m\u001b[37m\u001b[0m \u001b[1m2s\u001b[0m 3ms/step - loss: 18820591616.0000 - mae: 69844.2812 - mse: 18820591616.0000 - val_loss: 18929754112.0000 - val_mae: 68990.3438 - val_mse: 18929754112.0000\n",
            "Epoch 30/30\n",
            "\u001b[1m619/619\u001b[0m \u001b[32m━━━━━━━━━━━━━━━━━━━━\u001b[0m\u001b[37m\u001b[0m \u001b[1m3s\u001b[0m 3ms/step - loss: 19421722624.0000 - mae: 69625.6953 - mse: 19421722624.0000 - val_loss: 18840858624.0000 - val_mae: 69073.0703 - val_mse: 18840858624.0000\n"
          ]
        }
      ],
      "source": [
        "hist = model.fit(X_train, Y_train,\n",
        "          batch_size=1024, epochs=30,\n",
        "          validation_data=(X_val, Y_val))\n"
      ]
    },
    {
      "cell_type": "code",
      "source": [
        "\n",
        "model_1 = keras.models.Sequential([\n",
        "    keras.layers.Dense(9, activation='elu', input_shape=(9,)),\n",
        "    keras.layers.Dense(64, activation='elu'),\n",
        "    keras.layers.Dense(32, activation='elu'),\n",
        "    keras.layers.Dense(1, activation='linear'),\n",
        "])\n",
        "adam_1=keras.optimizers.Adam(learning_rate=0.1)#lr=0.001)\n",
        "model_1.compile(loss='mse', optimizer=adam_1, metrics=['mse','mae'])\n",
        "\n",
        "\n",
        "hist_1 = model_1.fit(X_1_train, Y_1_train,batch_size=256, epochs=30,validation_data=(X_1_val, Y_1_val))"
      ],
      "metadata": {
        "colab": {
          "base_uri": "https://localhost:8080/"
        },
        "id": "HOWvGTsaOVEe",
        "outputId": "2e5f74df-3897-47b2-b086-7fd556a08ad2"
      },
      "execution_count": null,
      "outputs": [
        {
          "output_type": "stream",
          "name": "stdout",
          "text": [
            "Epoch 1/30\n",
            "\u001b[1m2473/2473\u001b[0m \u001b[32m━━━━━━━━━━━━━━━━━━━━\u001b[0m\u001b[37m\u001b[0m \u001b[1m17s\u001b[0m 6ms/step - loss: 22885298176.0000 - mae: 78476.2031 - mse: 22885298176.0000 - val_loss: 20974090240.0000 - val_mae: 65809.5703 - val_mse: 20974090240.0000\n",
            "Epoch 2/30\n",
            "\u001b[1m2473/2473\u001b[0m \u001b[32m━━━━━━━━━━━━━━━━━━━━\u001b[0m\u001b[37m\u001b[0m \u001b[1m12s\u001b[0m 3ms/step - loss: 17483094016.0000 - mae: 66794.7812 - mse: 17483094016.0000 - val_loss: 20566411264.0000 - val_mae: 65020.0391 - val_mse: 20566411264.0000\n",
            "Epoch 3/30\n",
            "\u001b[1m2473/2473\u001b[0m \u001b[32m━━━━━━━━━━━━━━━━━━━━\u001b[0m\u001b[37m\u001b[0m \u001b[1m9s\u001b[0m 4ms/step - loss: 17137207296.0000 - mae: 65970.2344 - mse: 17137207296.0000 - val_loss: 21322915840.0000 - val_mae: 67963.3828 - val_mse: 21322915840.0000\n",
            "Epoch 4/30\n",
            "\u001b[1m2473/2473\u001b[0m \u001b[32m━━━━━━━━━━━━━━━━━━━━\u001b[0m\u001b[37m\u001b[0m \u001b[1m6s\u001b[0m 2ms/step - loss: 16231111680.0000 - mae: 65764.5156 - mse: 16231111680.0000 - val_loss: 20661970944.0000 - val_mae: 63906.9375 - val_mse: 20661970944.0000\n",
            "Epoch 5/30\n",
            "\u001b[1m2473/2473\u001b[0m \u001b[32m━━━━━━━━━━━━━━━━━━━━\u001b[0m\u001b[37m\u001b[0m \u001b[1m7s\u001b[0m 3ms/step - loss: 17817765888.0000 - mae: 66027.2109 - mse: 17817765888.0000 - val_loss: 20647172096.0000 - val_mae: 63646.2227 - val_mse: 20647172096.0000\n",
            "Epoch 6/30\n",
            "\u001b[1m2473/2473\u001b[0m \u001b[32m━━━━━━━━━━━━━━━━━━━━\u001b[0m\u001b[37m\u001b[0m \u001b[1m9s\u001b[0m 2ms/step - loss: 17370329088.0000 - mae: 65492.7461 - mse: 17370329088.0000 - val_loss: 20763328512.0000 - val_mae: 63213.0977 - val_mse: 20763328512.0000\n",
            "Epoch 7/30\n",
            "\u001b[1m2473/2473\u001b[0m \u001b[32m━━━━━━━━━━━━━━━━━━━━\u001b[0m\u001b[37m\u001b[0m \u001b[1m8s\u001b[0m 3ms/step - loss: 18010195968.0000 - mae: 65684.3281 - mse: 18010195968.0000 - val_loss: 20948318208.0000 - val_mae: 64104.0703 - val_mse: 20948318208.0000\n",
            "Epoch 8/30\n",
            "\u001b[1m2473/2473\u001b[0m \u001b[32m━━━━━━━━━━━━━━━━━━━━\u001b[0m\u001b[37m\u001b[0m \u001b[1m6s\u001b[0m 3ms/step - loss: 17208135680.0000 - mae: 65449.6641 - mse: 17208135680.0000 - val_loss: 20840275968.0000 - val_mae: 62858.6016 - val_mse: 20840275968.0000\n",
            "Epoch 9/30\n",
            "\u001b[1m2473/2473\u001b[0m \u001b[32m━━━━━━━━━━━━━━━━━━━━\u001b[0m\u001b[37m\u001b[0m \u001b[1m10s\u001b[0m 2ms/step - loss: 16524329984.0000 - mae: 65123.1680 - mse: 16524329984.0000 - val_loss: 20796424192.0000 - val_mae: 62958.2422 - val_mse: 20796424192.0000\n",
            "Epoch 10/30\n",
            "\u001b[1m2473/2473\u001b[0m \u001b[32m━━━━━━━━━━━━━━━━━━━━\u001b[0m\u001b[37m\u001b[0m \u001b[1m12s\u001b[0m 3ms/step - loss: 17243469824.0000 - mae: 64936.0039 - mse: 17243469824.0000 - val_loss: 20846616576.0000 - val_mae: 64894.7617 - val_mse: 20846616576.0000\n",
            "Epoch 11/30\n",
            "\u001b[1m2473/2473\u001b[0m \u001b[32m━━━━━━━━━━━━━━━━━━━━\u001b[0m\u001b[37m\u001b[0m \u001b[1m12s\u001b[0m 4ms/step - loss: 17659183104.0000 - mae: 65275.7695 - mse: 17659183104.0000 - val_loss: 20608190464.0000 - val_mae: 62835.2539 - val_mse: 20608190464.0000\n",
            "Epoch 12/30\n",
            "\u001b[1m2473/2473\u001b[0m \u001b[32m━━━━━━━━━━━━━━━━━━━━\u001b[0m\u001b[37m\u001b[0m \u001b[1m6s\u001b[0m 2ms/step - loss: 17806274560.0000 - mae: 65148.4297 - mse: 17806274560.0000 - val_loss: 20457185280.0000 - val_mae: 64304.2812 - val_mse: 20457185280.0000\n",
            "Epoch 13/30\n",
            "\u001b[1m2473/2473\u001b[0m \u001b[32m━━━━━━━━━━━━━━━━━━━━\u001b[0m\u001b[37m\u001b[0m \u001b[1m8s\u001b[0m 3ms/step - loss: 17585989632.0000 - mae: 64580.0234 - mse: 17585989632.0000 - val_loss: 20443353088.0000 - val_mae: 62387.3281 - val_mse: 20443353088.0000\n",
            "Epoch 14/30\n",
            "\u001b[1m2473/2473\u001b[0m \u001b[32m━━━━━━━━━━━━━━━━━━━━\u001b[0m\u001b[37m\u001b[0m \u001b[1m8s\u001b[0m 2ms/step - loss: 16487272448.0000 - mae: 64466.6172 - mse: 16487272448.0000 - val_loss: 20927795200.0000 - val_mae: 67162.2656 - val_mse: 20927795200.0000\n",
            "Epoch 15/30\n",
            "\u001b[1m2473/2473\u001b[0m \u001b[32m━━━━━━━━━━━━━━━━━━━━\u001b[0m\u001b[37m\u001b[0m \u001b[1m10s\u001b[0m 2ms/step - loss: 17950840832.0000 - mae: 64719.0859 - mse: 17950840832.0000 - val_loss: 20162402304.0000 - val_mae: 64600.1680 - val_mse: 20162402304.0000\n",
            "Epoch 16/30\n",
            "\u001b[1m2473/2473\u001b[0m \u001b[32m━━━━━━━━━━━━━━━━━━━━\u001b[0m\u001b[37m\u001b[0m \u001b[1m8s\u001b[0m 3ms/step - loss: 17994999808.0000 - mae: 64624.5039 - mse: 17994999808.0000 - val_loss: 20097159168.0000 - val_mae: 64347.6914 - val_mse: 20097159168.0000\n",
            "Epoch 17/30\n",
            "\u001b[1m2473/2473\u001b[0m \u001b[32m━━━━━━━━━━━━━━━━━━━━\u001b[0m\u001b[37m\u001b[0m \u001b[1m5s\u001b[0m 2ms/step - loss: 16910704640.0000 - mae: 63813.4766 - mse: 16910704640.0000 - val_loss: 19982473216.0000 - val_mae: 62883.6406 - val_mse: 19982473216.0000\n",
            "Epoch 18/30\n",
            "\u001b[1m2473/2473\u001b[0m \u001b[32m━━━━━━━━━━━━━━━━━━━━\u001b[0m\u001b[37m\u001b[0m \u001b[1m6s\u001b[0m 3ms/step - loss: 16606535680.0000 - mae: 63852.6758 - mse: 16606535680.0000 - val_loss: 20038823936.0000 - val_mae: 62415.8125 - val_mse: 20038823936.0000\n",
            "Epoch 19/30\n",
            "\u001b[1m2473/2473\u001b[0m \u001b[32m━━━━━━━━━━━━━━━━━━━━\u001b[0m\u001b[37m\u001b[0m \u001b[1m7s\u001b[0m 3ms/step - loss: 15883427840.0000 - mae: 64054.9258 - mse: 15883427840.0000 - val_loss: 20449853440.0000 - val_mae: 65442.0117 - val_mse: 20449853440.0000\n",
            "Epoch 20/30\n",
            "\u001b[1m2473/2473\u001b[0m \u001b[32m━━━━━━━━━━━━━━━━━━━━\u001b[0m\u001b[37m\u001b[0m \u001b[1m11s\u001b[0m 3ms/step - loss: 16710640640.0000 - mae: 64229.7773 - mse: 16710640640.0000 - val_loss: 19993327616.0000 - val_mae: 64798.7734 - val_mse: 19993327616.0000\n",
            "Epoch 21/30\n",
            "\u001b[1m2473/2473\u001b[0m \u001b[32m━━━━━━━━━━━━━━━━━━━━\u001b[0m\u001b[37m\u001b[0m \u001b[1m6s\u001b[0m 2ms/step - loss: 16755386368.0000 - mae: 63874.7578 - mse: 16755386368.0000 - val_loss: 19786313728.0000 - val_mae: 63139.2734 - val_mse: 19786313728.0000\n",
            "Epoch 22/30\n",
            "\u001b[1m2473/2473\u001b[0m \u001b[32m━━━━━━━━━━━━━━━━━━━━\u001b[0m\u001b[37m\u001b[0m \u001b[1m8s\u001b[0m 3ms/step - loss: 17504753664.0000 - mae: 63887.3633 - mse: 17504753664.0000 - val_loss: 19839754240.0000 - val_mae: 63848.6172 - val_mse: 19839754240.0000\n",
            "Epoch 23/30\n",
            "\u001b[1m2473/2473\u001b[0m \u001b[32m━━━━━━━━━━━━━━━━━━━━\u001b[0m\u001b[37m\u001b[0m \u001b[1m6s\u001b[0m 2ms/step - loss: 16724499456.0000 - mae: 63923.5391 - mse: 16724499456.0000 - val_loss: 19769518080.0000 - val_mae: 62630.7578 - val_mse: 19769518080.0000\n",
            "Epoch 24/30\n",
            "\u001b[1m2473/2473\u001b[0m \u001b[32m━━━━━━━━━━━━━━━━━━━━\u001b[0m\u001b[37m\u001b[0m \u001b[1m8s\u001b[0m 3ms/step - loss: 16439565312.0000 - mae: 63992.5156 - mse: 16439565312.0000 - val_loss: 20042545152.0000 - val_mae: 62370.6367 - val_mse: 20042545152.0000\n",
            "Epoch 25/30\n",
            "\u001b[1m2473/2473\u001b[0m \u001b[32m━━━━━━━━━━━━━━━━━━━━\u001b[0m\u001b[37m\u001b[0m \u001b[1m8s\u001b[0m 2ms/step - loss: 17202810880.0000 - mae: 63484.2266 - mse: 17202810880.0000 - val_loss: 19788615680.0000 - val_mae: 62974.2344 - val_mse: 19788615680.0000\n",
            "Epoch 26/30\n",
            "\u001b[1m2473/2473\u001b[0m \u001b[32m━━━━━━━━━━━━━━━━━━━━\u001b[0m\u001b[37m\u001b[0m \u001b[1m7s\u001b[0m 3ms/step - loss: 15776465920.0000 - mae: 63590.5156 - mse: 15776465920.0000 - val_loss: 20817670144.0000 - val_mae: 71780.2109 - val_mse: 20817670144.0000\n",
            "Epoch 27/30\n",
            "\u001b[1m2473/2473\u001b[0m \u001b[32m━━━━━━━━━━━━━━━━━━━━\u001b[0m\u001b[37m\u001b[0m \u001b[1m10s\u001b[0m 3ms/step - loss: 17045854208.0000 - mae: 64050.7734 - mse: 17045854208.0000 - val_loss: 19255418880.0000 - val_mae: 62673.5586 - val_mse: 19255418880.0000\n",
            "Epoch 28/30\n",
            "\u001b[1m2473/2473\u001b[0m \u001b[32m━━━━━━━━━━━━━━━━━━━━\u001b[0m\u001b[37m\u001b[0m \u001b[1m10s\u001b[0m 3ms/step - loss: 15987355648.0000 - mae: 63641.0859 - mse: 15987355648.0000 - val_loss: 19690739712.0000 - val_mae: 63747.5195 - val_mse: 19690739712.0000\n",
            "Epoch 29/30\n",
            "\u001b[1m2473/2473\u001b[0m \u001b[32m━━━━━━━━━━━━━━━━━━━━\u001b[0m\u001b[37m\u001b[0m \u001b[1m10s\u001b[0m 3ms/step - loss: 16736403456.0000 - mae: 63722.3398 - mse: 16736403456.0000 - val_loss: 19525580800.0000 - val_mae: 62556.5586 - val_mse: 19525580800.0000\n",
            "Epoch 30/30\n",
            "\u001b[1m2473/2473\u001b[0m \u001b[32m━━━━━━━━━━━━━━━━━━━━\u001b[0m\u001b[37m\u001b[0m \u001b[1m11s\u001b[0m 3ms/step - loss: 17167561728.0000 - mae: 63465.3984 - mse: 17167561728.0000 - val_loss: 20006678528.0000 - val_mae: 63233.0781 - val_mse: 20006678528.0000\n"
          ]
        }
      ]
    },
    {
      "cell_type": "markdown",
      "metadata": {
        "id": "8QBcATQLEKvr"
      },
      "source": [
        "Understanding our results:"
      ]
    },
    {
      "cell_type": "code",
      "execution_count": null,
      "metadata": {
        "colab": {
          "base_uri": "https://localhost:8080/"
        },
        "id": "a-W5c16-EKvr",
        "outputId": "5951d134-3cf6-47c1-bce2-011d2d2a99b0"
      },
      "outputs": [
        {
          "output_type": "execute_result",
          "data": {
            "text/plain": [
              "172874.90233189243"
            ]
          },
          "metadata": {},
          "execution_count": 183
        }
      ],
      "source": [
        "df.structuretaxvaluedollarcnt.mean()"
      ]
    },
    {
      "cell_type": "markdown",
      "metadata": {
        "id": "YgSrRVDYEKvz"
      },
      "source": [
        "# Visualizing Loss and Accuracy"
      ]
    },
    {
      "cell_type": "markdown",
      "metadata": {
        "id": "78_vxjAPEKvz"
      },
      "source": [
        "Import the relevant package we need to do the visualization"
      ]
    },
    {
      "cell_type": "code",
      "execution_count": null,
      "metadata": {
        "id": "Pbnq8EV0EKvz"
      },
      "outputs": [],
      "source": [
        "import matplotlib.pyplot as plt"
      ]
    },
    {
      "cell_type": "markdown",
      "metadata": {
        "id": "yYWM98bBEKvz"
      },
      "source": [
        "We want to visualize the training loss and the validation loss like this:"
      ]
    },
    {
      "cell_type": "code",
      "execution_count": null,
      "metadata": {
        "colab": {
          "base_uri": "https://localhost:8080/",
          "height": 472
        },
        "id": "IyGrLHTjEKvz",
        "outputId": "9fbff943-97bd-42f4-d18d-b7ce603b0d16"
      },
      "outputs": [
        {
          "output_type": "display_data",
          "data": {
            "text/plain": [
              "<Figure size 640x480 with 1 Axes>"
            ],
            "image/png": "[encoded data removed]"
          },
          "metadata": {}
        }
      ],
      "source": [
        "plt.plot(hist.history['loss'])\n",
        "plt.plot(hist.history['val_loss'])\n",
        "plt.plot(hist_1.history['loss'])\n",
        "plt.plot(hist_1.history['val_loss'])\n",
        "plt.title('Model loss')\n",
        "plt.ylabel('Loss')\n",
        "plt.xlabel('Epoch')\n",
        "plt.legend(['Model1_Train', 'Model1_Val','Model2_Train','Model2_Val'], loc='upper right')\n",
        "plt.show()"
      ]
    },
    {
      "cell_type": "markdown",
      "metadata": {
        "id": "vKIbJ2pmEKvz"
      },
      "source": [
        "Now we can computer performance on the test set, to see how the model performs on real data that hasn't been seen before."
      ]
    },
    {
      "cell_type": "code",
      "execution_count": null,
      "metadata": {
        "colab": {
          "base_uri": "https://localhost:8080/"
        },
        "id": "Qp3K5gY1EKvz",
        "outputId": "92c9c5d5-2ee9-4dc0-c57d-a99e4b8509ff"
      },
      "outputs": [
        {
          "output_type": "stream",
          "name": "stdout",
          "text": [
            "\u001b[1m4239/4239\u001b[0m \u001b[32m━━━━━━━━━━━━━━━━━━━━\u001b[0m\u001b[37m\u001b[0m \u001b[1m7s\u001b[0m 2ms/step\n"
          ]
        }
      ],
      "source": [
        "predictions = model.predict(X_test)\n"
      ]
    },
    {
      "cell_type": "code",
      "source": [
        "predictions_1 = model_1.predict(X_1_test)"
      ],
      "metadata": {
        "colab": {
          "base_uri": "https://localhost:8080/"
        },
        "id": "4Pz7RWMxNz8A",
        "outputId": "341a7c5b-c775-423c-c6ca-daf39e6dbc56"
      },
      "execution_count": null,
      "outputs": [
        {
          "output_type": "stream",
          "name": "stdout",
          "text": [
            "\u001b[1m4239/4239\u001b[0m \u001b[32m━━━━━━━━━━━━━━━━━━━━\u001b[0m\u001b[37m\u001b[0m \u001b[1m6s\u001b[0m 1ms/step\n"
          ]
        }
      ]
    },
    {
      "cell_type": "code",
      "execution_count": null,
      "metadata": {
        "colab": {
          "base_uri": "https://localhost:8080/"
        },
        "id": "9ArGhZKFEKvz",
        "outputId": "3c313bb6-d539-418c-c1dd-676d77096069"
      },
      "outputs": [
        {
          "output_type": "stream",
          "name": "stdout",
          "text": [
            "Requirement already satisfied: numpy in /usr/local/lib/python3.10/dist-packages (1.26.4)\n"
          ]
        }
      ],
      "source": [
        "#!conda install numpy\n",
        "!pip3 install numpy"
      ]
    },
    {
      "cell_type": "code",
      "execution_count": null,
      "metadata": {
        "id": "saAAfLwhEKvz"
      },
      "outputs": [],
      "source": [
        "from sklearn.metrics import mean_absolute_error\n",
        "from sklearn.metrics import mean_squared_error\n",
        "import math\n",
        "import numpy as np"
      ]
    },
    {
      "cell_type": "code",
      "execution_count": null,
      "metadata": {
        "colab": {
          "base_uri": "https://localhost:8080/"
        },
        "id": "86IFDW7EEKvz",
        "outputId": "cc1819ac-66b6-4b28-fda9-9856079fb7a3"
      },
      "outputs": [
        {
          "output_type": "stream",
          "name": "stdout",
          "text": [
            "69603.06372672907\n",
            "63095.809059536565\n"
          ]
        }
      ],
      "source": [
        "print(mean_absolute_error(Y_test, predictions))\n",
        "print(mean_absolute_error(Y_1_test, predictions_1))"
      ]
    },
    {
      "cell_type": "code",
      "execution_count": null,
      "metadata": {
        "colab": {
          "base_uri": "https://localhost:8080/"
        },
        "id": "qPvOYEyoEKvz",
        "outputId": "37d234e7-b954-4b61-94c9-82b3fcce5151"
      },
      "outputs": [
        {
          "output_type": "stream",
          "name": "stdout",
          "text": [
            "MSE for model 1: 17355677739.22961\n",
            "MSE for model 1: 15423546904.642752\n",
            "RMSE for model 2: 131740.94936362654\n",
            "RMSE for model 2: 124191.57340432865\n"
          ]
        }
      ],
      "source": [
        "print(f\"MSE for model 1: {mean_squared_error(Y_test, predictions)}\")\n",
        "print(f\"MSE for model 1: {mean_squared_error(Y_1_test, predictions_1)}\")\n",
        "print(f\"RMSE for model 2: {math.sqrt(mean_squared_error(Y_test, predictions))}\")\n",
        "print(f\"RMSE for model 2: {math.sqrt(mean_squared_error(Y_1_test, predictions_1))}\")"
      ]
    },
    {
      "cell_type": "markdown",
      "metadata": {
        "id": "1G8-kLvREKv0"
      },
      "source": [
        "\n",
        "\n",
        "###Steps I Performed\n",
        "#### Analyzed the dataset to understand the features.\n",
        "#### Identified *calculatedbathnbr*, *lotsizesquarefeet.1*, and *roomcnt* as redundant or noise.\n",
        "#### Removed these features and built a model, with minimal improvement in MSE.\n",
        "#### Increased the number of units in the hidden layers and adjusted the learning rate to 0.01, resulting in a 2% improvement.\n",
        "#### Further adjusted the learning rate to 0.1 and batch size to 514, achieving a 5% overall improvement.\n",
        "#### Finally, reduced the batch size to 256, leading to a 11.13% overall improvement.\n",
        "\n",
        "### https://chatgpt.com/share/6711d61c-4380-8006-a59d-16d09b13cd25"
      ]
    }
  ],
  "metadata": {
    "kernelspec": {
      "display_name": "Python 3 (ipykernel)",
      "language": "python",
      "name": "python3"
    },
    "language_info": {
      "codemirror_mode": {
        "name": "ipython",
        "version": 3
      },
      "file_extension": ".py",
      "mimetype": "text/x-python",
      "name": "python",
      "nbconvert_exporter": "python",
      "pygments_lexer": "ipython3",
      "version": "3.11.5"
    },
    "colab": {
      "provenance": [],
      "include_colab_link": true
    }
  },
  "nbformat": 4,
  "nbformat_minor": 0
}